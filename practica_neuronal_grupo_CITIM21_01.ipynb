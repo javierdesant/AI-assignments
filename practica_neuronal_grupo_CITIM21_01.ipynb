{
 "cells": [
  {
   "cell_type": "markdown",
   "metadata": {
    "colab_type": "text",
    "id": "view-in-github"
   },
   "source": [
    "<a href=\"https://colab.research.google.com/github/javierdesant/AI-assignments/blob/main/practica_neuronal_grupo_CITIM21_01.ipynb\" target=\"_parent\"><img src=\"https://colab.research.google.com/assets/colab-badge.svg\" alt=\"Open In Colab\"/></a>"
   ]
  },
  {
   "cell_type": "markdown",
   "metadata": {
    "id": "lY-pfkAxnle2"
   },
   "source": [
    "# A. Enunciado de la práctica"
   ]
  },
  {
   "cell_type": "markdown",
   "metadata": {
    "id": "odvJR32Enle5"
   },
   "source": [
    "## 1. Objetivos de la práctica\n",
    "El desarrollo de esta práctica pretende que el alumnado analice, diseñe e implemente soluciones a un problema usando las técnicas de computación evolutiva impartidas en la asignatura Inteligencia Artificial (IA). Para ello, el alumnado desarrollará de forma grupal (por cuartetos) un proyecto de programación en lenguaje Python mediante el uso del entorno de programación Google Colab y cuadernos de Python."
   ]
  },
  {
   "cell_type": "markdown",
   "metadata": {
    "id": "KVH9e_lSnle6"
   },
   "source": [
    "## 2. Caso de estudio\n",
    "Se pretende resolver un problema de planificación de horarios para un grupo de los grados comunes de la E.T.S. de Ingeniería de Sistemas Informáticos. El problema de planificación de horarios consiste en distribuir $N$ asignaturas, cada una con un número $h_i$ de horas semanales, en un horario de $M$ días con $k$ horas por día, asegurando que se cumplan las siguientes restricciones:\n",
    "\n",
    "* Cada hora de cada asignatura se debe impartir en un día y hora diferente, i.e. no puede haber solapamiento de horas.\n",
    "* No se pueden impartir más de 2 horas de la misma asignatura el mismo día.\n",
    "\n",
    "El objetivo es encontrar una planificación de horarios que tenga en cuenta las siguientes preferencias:\n",
    "\n",
    "* Se desea que el horario sea lo más continuo posible, i.e. que no haya huecos vacíos al día entre asignatura y asignatura, o que este sea mínimo.\n",
    "* Se desea que el horario sea lo más compacto posible, i.e. que se utilicen el menor número de días posibles.\n",
    "* Se desea que si una asignatura imparte más de una hora al día, estas horas sean consecutivas.\n",
    "\n",
    "Por ejemplo, si tenemos $N=3$ asignaturas (IA, ALG y BD) con las siguientes horas semanales: $h_1 = 1$, $h_2 = 2$ y $h_3 = 3$, y un horario de $M=3$ días con $k=3$ horas por día, una posible planificación sería:\n",
    "\n",
    "|         | Día 1  | Día 2  | Día 3 |\n",
    "|---------|--------|--------|-------|\n",
    "| Hora 1  |  ALG   | BD     |       |\n",
    "| Hora 2  |  ALG   | BD     |       |\n",
    "| Hora 3  |  BD    | IA     |       |\n",
    "\n",
    "Esta planificación cumple las restricciones, ya que no hay solapamiento de horas y no se imparten más de 2 horas de la misma asignatura el mismo día. Además, la solución es óptima ya que cumple todas las preferencias: no hay huecos entre asignaturas, el número de días es el menor posible y las horas de las asignaturas que se imparten más de una vez al día son consecutivas.\n",
    "\n",
    "La siguiente solución sería válida, pero no óptima:\n",
    "\n",
    "|         | Día 1  | Día 2  | Día 3 |\n",
    "|---------|--------|--------|-------|\n",
    "| Hora 1  |  IA    | BD     | ALG   |\n",
    "| Hora 2  |        |        |       |\n",
    "| Hora 3  |  BD    | BD     | ALG   |\n",
    "\n",
    "Se puede apreciar que hay huecos entre asignaturas, que el número de días no es lo menor posible y que las horas de las asignaturas que se imparten más de una vez al día no son consecutivas.\n",
    "\n",
    "Finalmente, se muestra un ejemplo de solución no válida:\n",
    "\n",
    "|         | Día 1  | Día 2  | Día 3 |\n",
    "|---------|--------|--------|-------|\n",
    "| Hora 1  | IA/ALG | BD     |       |\n",
    "| Hora 2  |  ALG   | BD     |       |\n",
    "| Hora 3  |        | BD     |       |\n",
    "\n",
    "Se puede apreciar que hay solapamiento de horas y que se imparten más de 2 horas de la misma asignatura el mismo día.\n",
    "\n",
    "Para resolver este problema, se propone el uso de un algoritmo genético. El algoritmo genético deberá ser capaz de generar una población inicial de soluciones, evaluar la calidad de cada solución, seleccionar las mejores soluciones, cruzarlas y mutarlas para generar una nueva población de soluciones. El algoritmo deberá ser capaz de encontrar una solución óptima (o cercana al óptimo en los casos más complejos) en un tiempo razonable."
   ]
  },
  {
   "cell_type": "markdown",
   "metadata": {
    "id": "vakmiWD_nle7"
   },
   "source": [
    "## 3. Desarrollo\n",
    "El desarrollo de esta práctica supone completar este cuaderno de python para resolver el problema para varias configuraciones diferentes usando algoritmos genéticos. Además, usando este cuaderno de python, se quieren mostrar resultados de la ejecución de los algoritmos para extraer conclusiones sobre las configuraciones del problema. También se desea hacer una comparativa entre los algoritmos genéticos propuestos, las distintas representaciones propuestas, los distintos operadores y parámetros de configuración de los algoritmos genéticos, etc.\n",
    "\n",
    "### 3.1 Primera aproximación\n",
    "\n",
    "Como primera aproximación, se desarrollará un algoritmo genético para resolver el problema usando la siguiente representación y función de fitness:\n",
    "\n",
    "* **Representación**: Cada solución será un array de tamaño $h_1 + h_2 + \\ldots + h_N$ con alfabeto valores enteros en el rango $\\Omega = [0, M \\times k - 1]$. Cada valor del array representará la hora (con el correspondiente día) en la que se imparte cada hora de la asignatura $i$, i.e. si $sol_{i_0} = j$, la primera hora de la asignatura $i$ se imparte en el día $j // k$ y en la hora $j \\% k$. E.g. en el ejemplo 1 del enunciado, la solución sería $sol = [5, 0, 1, 2, 3, 4]$.\n",
    "* **Función de fitness**: La función de fitness se define mediante la siguiente fórmula:\n",
    "\n",
    "$$ fitness(sol) = \\left\\{ \\begin{array}{ll} 0 & \\text{si } C_1 > 0 \\; || \\; C_2 > 0 \\\\ \\\\ \\frac{1}{1+ P_1 + P_2 + P_3} & \\text{en otro caso} \\end{array} \\right. $$\n",
    "\n",
    "  donde:\n",
    "\n",
    "* $C_1 =$ Número de solapamientos entre asignaturas. E.g. en el ejemplo 3 del enunciado, $C_1 = 1$. Si hubiera tres asignaturas a la vez en una misma hora, se consideraría un solapamiento de 2; si hubiera cuatro asignaturas a la vez en una misma hora, se consideraría un solapamiento de 3, etc.\n",
    "* $C_2 =$ Número de horas por encima de 2 de una misma asignatura impartidas el mismo día. E.g. en el ejemplo 3 del enunciado, $C_2 = 1$.\n",
    "* $P_1 =$ Número de huecos vacíos entre asignaturas. E.g. en el ejemplo 2 del enunciado, $P_1 = 3$. Si hubiera dos huecos entre asignaturas, se consideraría un hueco de 2; si hubiera tres huecos entre asignaturas, se consideraría un hueco de 3, etc.\n",
    "* $P_2 =$ Número de días utilizados en los horarios. E.g. en el ejemplo 1 del enunciado, $P_2 = 2$.\n",
    "* $P_3 =$ Número de asignaturas con horas NO consecutivas en un mismo día. E.g. en el ejemplo 2 del enunciado, $P_3 = 2$.\n",
    "\n",
    "Utilizando la representación y función de fitness propuestas, se aplicará el algoritmo genético utilizando las siguiente configuración:\n",
    "* **Población inicial**: $pop_{size}=50$ soluciones aleatorias.\n",
    "* **Selección**: Selección por torneo con $T=2$.\n",
    "* **Cruce**: Cruce de un punto con probabilidad $P_{cruce}=0.8$.\n",
    "* **Mutación**: Mutación uniforme con probabilidad $P_{mut}=0.1$.\n",
    "* **Selección ambiental (nueva población)**: Reemplazo generacional sin elitismo.\n",
    "* **Criterio de parada**: Número de generaciones $n_{gens}=50$.\n",
    "\n",
    "### 3.2 Aproximación final propuesta\n",
    "\n",
    "Se deberá proponer una o varias aproximaciones finales para resolver el problema de planificación de horarios. Estas aproximaciones deberán ser diferentes a la propuesta en la primera aproximación y deberán justificarse adecuadamente. Para cada aproximación se deberá proponer e implementar:\n",
    "* **Representación**: Se puede proponer una representación diferente a la propuesta en la primera aproximación. Se deberá justificar adecuadamente la elección de la representación.\n",
    "* **Función de fitness**: Se puede proponer una función de fitness diferente a la propuesta en la primera aproximación. Se deberá justificar adecuadamente la elección de la función de fitness.\n",
    "* **Operadores genéticos**: Se pueden proponer operadores genéticos (selección, cruce y mutación) diferentes a los propuestos en la primera aproximación. Se deberá justificar adecuadamente la elección de los operadores genéticos. También se puede proponer una selección ambiental diferente que mejore la convergencia del algoritmo (e.g. usar elitismo).\n",
    "* **Configuración del algoritmo genético**: Se pueden proponer parámetros de configuración diferentes a los propuestos en la primera aproximación (probabilidades, $pop_{size}$, etc), así como proponer un criterio de parada diferente que mejore la convergencia del algoritmo (e.g. parar cuando la fitness se estanque). En ningún caso, $pop_{size}$ ni $n_{gens}$ podrán ser superiores a 100. Se deberá justificar adecuadamente la elección de los parámetros de configuración.\n",
    "\n",
    "### Experimentación\n",
    "\n",
    "Dada la naturaleza estocástica de los algoritmos genéticos, cada aproximación (con cada configuración que se pruebe) deberá ser evaluada al menos 31 veces con distintos números aleatorios (semillas). Para cada aproximación, se deberá proporcionar una tabla comparativa entre la primera aproximación y las aproximaciones finales propuestas. Se deberá hacer un análisis estadístico de los resultados obtenidos obteniendo la media y desviación estándar de las 31 ejecuciones tanto para los distintos indicadores de calidad (C1, C2, P1, P2, P3) de la mejor solución encontrada en cada ejecución, como para los tiempos de ejecución y el número de generación en el cual ha parado la ejecución.\n",
    "\n",
    "En cada aproximación, se deberá mostrar gráficamente la evolución de la fitness de la mejor solución y de la media de la población en cada generación para la peor ejecución, la mejor ejecución y la ejecución media. Además, se deberá mostrar la mejor solución encontrada en cada una de estas tres ejecuciones.\n",
    "\n",
    "Para cada aproximación propuesta se debe proporcionar una tabla de estas características (Puede usarse un generador de tablas https://www.tablesgenerator.com/markdown_tables o pandas https://pandas.pydata.org/docs/user_guide/index.html):\n",
    "\n",
    "| Dataset | Algoritmo | Tiempo(s)   | Generaciones | C1        | C2        | P1        | P2        | P3        |\n",
    "|---------|-----------|-------------|--------------|-----------|-----------|-----------|-----------|-----------|\n",
    "|   1     |  Primero  | $10\\pm 3.5$ | $50\\pm 0$    | $1\\pm 1$  | $2\\pm 1$  | $1\\pm 2$  | $3\\pm 1$  | $2\\pm 1$  |\n",
    "|   1     |  Final 1  | $5 \\pm 1.2$ | $38\\pm 12$   | $0\\pm 0$  | $0\\pm 0$  | $0\\pm 1$  | $2\\pm 1$  | $0\\pm 1$  |\n",
    "|   2     |  Final 1  | $25\\pm 2.3$ | $73\\pm 22$   | $0\\pm 0$  | $0\\pm 1$  | $1\\pm 1$  | $3\\pm 0$  | $1\\pm 1$  |"
   ]
  },
  {
   "cell_type": "markdown",
   "metadata": {
    "id": "k7n6wwIjnle8"
   },
   "source": [
    "## 4. Normativa de la práctica\n",
    "Para el desarrollo del proyecto de programación se proporciona este cuaderno que sirve a modo de proyecto de programación. Se han propuesto varias configuraciones de horarios para utilizar en las distintas pruebas. Se permiten crear todas las funciones adicionales que sea necesario siempre y cuando se respete la estructura general de este cuaderno. Este cuaderno es el único entregable, por tanto desarrollar código fuera de él no es recomendable.\n",
    "\n",
    "Además de explicar las decisiones tomadas, será necesario realizar una comparativa de resultados en una o varias tablas, así como incluir una comparativa final.\n",
    "\n",
    "La práctica debe realizarse teniendo en cuenta la siguiente normativa:\n",
    "* NO está permitido alterar los nombres, parámetros ni tipo de retorno de ninguno de los métodos proporcionados. El método modificado se evaluará como 0 así como todos los métodos que dependan de él.\n",
    "* No está permitido el uso de librerías externas excepto numpy y pandas. El uso de librerías externas hará que se evalúe la práctica como 0.\n",
    "* La práctica se realizará de forma grupal (grupos de 4 alumnos). Cada grupo deberá desarrollar de manera independiente su propia práctica y realizar su propia entrega.\n",
    "* El plagio de la práctica queda estrictamente prohibido. La detección de plagio supondrá una calificación de 0 en la convocatoria de la asignatura para todos los alumnos implicados, así como la posibilidad de apertura de expediente académico disciplinar.\n",
    "* Para ser evaluado de la práctica es obligatorio entregarla en plazo, habiendo realizado correctamente al menos una funcionalidad de las pedidas. Una entrega fuera de plazo será evaluada como 0.\n",
    "* Usa este cuaderno a modo de memoria, justificando las decisiones que tomes a lo largo del proceso de desarrollo. El desarrollo en texto puntúa de cara a la nota de la práctica.\n",
    "* De cara a la entrega es estrictamente necesario entregar el cuaderno ejecutado al completo. Una entrega que no haya sido ejecutada con éxito hasta la última celda será evaluada como 0. (Entregad el archivo .ipynb)\n",
    "* Se debe comentar el código adecuadamente. Este apartado es puntuable."
   ]
  },
  {
   "cell_type": "markdown",
   "metadata": {
    "id": "FyyEkYr_nle8"
   },
   "source": [
    "# Cuerpo de la práctica\n",
    "Usa las siguientes celdas para desarrollar todo el código pedido. Recuerda respetar esta estructura general y añadir celdas siempre dentro de cada apartado."
   ]
  },
  {
   "cell_type": "markdown",
   "metadata": {
    "id": "J1oWwXjaWcqG"
   },
   "source": [
    "# Primera Aproximación"
   ]
  },
  {
   "cell_type": "markdown",
   "metadata": {
    "id": "kY6Qan4Qnle9"
   },
   "source": [
    "## Representación y función de fitness"
   ]
  },
  {
   "cell_type": "markdown",
   "metadata": {
    "id": "KxjhQNXJnle9"
   },
   "source": [
    "### Representación"
   ]
  },
  {
   "cell_type": "code",
   "execution_count": 5,
   "metadata": {
    "id": "cHgaR1ZLWcqJ"
   },
   "outputs": [],
   "source": [
    "# Ejemplo de dataset de entrada para el problema de asignación de horarios\n",
    "dataset = {\"n_courses\" : 3,\n",
    "           \"n_days\" : 3,\n",
    "           \"n_hours_day\" : 3,\n",
    "           \"courses\" : [(\"IA\", 1), (\"ALG\", 2), (\"BD\", 3)]}"
   ]
  },
  {
   "cell_type": "code",
   "execution_count": 6,
   "metadata": {
    "id": "lmcM4aPvnle-"
   },
   "outputs": [],
   "source": [
    "import numpy as np\n",
    "\n",
    "def generate_random_array_int(alphabet, length):\n",
    "    # Genera un array de enteros aleatorios de tamaño length\n",
    "    # usando el alfabeto dado\n",
    "    return np.random.choice(alphabet, length)\n",
    "\n",
    "def generate_initial_population_timetabling(pop_size, *args, **kwargs):\n",
    "    dataset = kwargs['dataset'] # Dataset con la misma estructura que el ejemplo\n",
    "    # Obtener el alfabeto y la longitud a partir del dataset\n",
    "    m = dataset['n_days']\n",
    "    k = dataset['n_hours_days']\n",
    "    length = 0\n",
    "    for i in dataset['courses']:\n",
    "      length += i[1]\n",
    "    # Genera una población inicial de tamaño pop_size\n",
    "    return [generate_random_array_int(list(m * (k - 1)), length) for i in range(pop_size)]"
   ]
  },
  {
   "cell_type": "code",
   "execution_count": 8,
   "metadata": {
    "id": "FYVD1EFDWcqK"
   },
   "outputs": [],
   "source": [
    "################################# NO TOCAR #################################\n",
    "#                                                                          #\n",
    "def print_timetabling_solution(solution, dataset):\n",
    "    # Imprime una solución de timetabling\n",
    "    n_days = dataset['n_days']\n",
    "    n_hours_day = dataset['n_hours_day']\n",
    "    courses = dataset['courses']\n",
    "\n",
    "    # Crea una matriz de n_days x n_hours_day\n",
    "    timetable = [[[] for _ in range(n_hours_day)] for _ in range(n_days)]\n",
    "\n",
    "    # Llena la matriz con las asignaturas\n",
    "    i = 0\n",
    "    max_len = 6 # Longitud del título Día XX\n",
    "    for course in courses:\n",
    "        for _ in range(course[1]):\n",
    "            day = solution[i] // n_hours_day\n",
    "            hour = solution[i] % n_hours_day\n",
    "            timetable[day][hour].append(course[0])\n",
    "            i += 1\n",
    "            # Calcula la longitud máxima del nombre de las asignaturas\n",
    "            # en una misma franja horaria\n",
    "            max_len = max(max_len, len('/'.join(timetable[day][hour])))\n",
    "\n",
    "    # Imprime la matriz con formato de tabla markdown\n",
    "    print('|         |', end='')\n",
    "    for i in range(n_days):\n",
    "        print(f' Día {i+1:<2}{\" \"*(max_len-6)} |', end='')\n",
    "    print()\n",
    "    print('|---------|', end='')\n",
    "    for i in range(n_days):\n",
    "        print(f'-{\"-\"*max_len}-|', end='')\n",
    "    print()\n",
    "    for j in range(n_hours_day):\n",
    "        print(f'| Hora {j+1:<2} |', end='')\n",
    "        for i in range(n_days):\n",
    "            s = '/'.join(timetable[i][j])\n",
    "            print(f' {s}{\" \"*(max_len-len(s))}', end=' |')\n",
    "        print()\n",
    "#                                                                          #\n",
    "################################# NO TOCAR #################################"
   ]
  },
  {
   "cell_type": "code",
   "execution_count": null,
   "metadata": {
    "colab": {
     "base_uri": "https://localhost:8080/"
    },
    "id": "4Ls4POJvnle_",
    "outputId": "1f9e1c9c-9562-4802-a820-6c5c344ebd6d"
   },
   "outputs": [
    {
     "name": "stdout",
     "output_type": "stream",
     "text": [
      "[7 8 8 3 1 3]\n",
      "|         | Día 1   | Día 2   | Día 3   |\n",
      "|---------|---------|---------|---------|\n",
      "| Hora 1  |         | BD/BD   |         |\n",
      "| Hora 2  | BD      |         | IA      |\n",
      "| Hora 3  |         |         | ALG/ALG |\n"
     ]
    }
   ],
   "source": [
    "# Ejemplo de uso de la función generar individuo con el dataset de ejemplo\n",
    "candidate = generate_random_array_int(list(range(9)), 6)\n",
    "print_timetabling_solution(candidate, dataset)"
   ]
  },
  {
   "cell_type": "markdown",
   "metadata": {
    "id": "JVeEjXCjnle_"
   },
   "source": [
    "### Función de fitness"
   ]
  },
  {
   "cell_type": "code",
   "execution_count": null,
   "metadata": {
    "id": "qwDZJdfInlfA"
   },
   "outputs": [
    {
     "name": "stdout",
     "output_type": "stream",
     "text": [
      "|         | Día 1  | Día 2  | Día 3  |\n",
      "|---------|--------|--------|--------|\n",
      "| Hora 1  |        | ALG    |        |\n",
      "| Hora 2  |        | ALG    | IA     |\n",
      "| Hora 3  | BD     | BD     | BD     |\n",
      "[7 3 4 2 5 8]\n",
      "0 2\n",
      "3 5\n",
      "6 8\n",
      "0\n"
     ]
    }
   ],
   "source": [
    "def calculate_c1(solution, *args, **kwargs):\n",
    "    dataset = kwargs['dataset']\n",
    "    # Calcula la cantidad de asignaturas que se imparten en mismas franjas horarias\n",
    "    unique_values, counts = np.unique(solution, return_counts=True)\n",
    "    return np.sum(counts > 1)\n",
    "\n",
    "def calculate_c2(solution, *args, **kwargs):\n",
    "    dataset = kwargs['dataset']\n",
    "    # Calcula la cantidad de horas por encima de 2 que se imparten\n",
    "    # de una misma asignatura en un mismo día\n",
    "    sol = 0\n",
    "    hours = howManyHours(solution, dataset)\n",
    "    for i in range(0, len(hours)):\n",
    "        for j in range(0, len(hours[0])):\n",
    "            if(hours[i][j] > 2):\n",
    "                sol += 1\n",
    "    return sol\n",
    "\n",
    "\n",
    "def calculate_p1(solution, *args, **kwargs):\n",
    "    dataset = kwargs['dataset']\n",
    "    # Calcula el número de huecos vacíos entre asignaturas\n",
    "    return None\n",
    "\n",
    "def calculate_p2(solution, *args, **kwargs):\n",
    "    dataset = kwargs['dataset']\n",
    "    # Calcula el número de días utilizados en los horarios\n",
    "    auxRange = dataset['n_hours_day']\n",
    "    \n",
    "    sol = 0\n",
    "    for i in range(0, dataset['n_days']):\n",
    "        Max = (auxRange * (i+1))-1\n",
    "        Min = auxRange * i\n",
    "        print(Min , Max)\n",
    "        if(len([n for n in solution if Min <= n <= Max]) == 0):\n",
    "            sol += 1\n",
    "    return sol\n",
    "\n",
    "def calculate_p3(solution, *args, **kwargs):\n",
    "    dataset = kwargs['dataset']\n",
    "    # Calcula el número de asignaturas con horas NO consecutivas en un mismo día\n",
    "    return None\n",
    "\n",
    "def fitness_timetabling(solution, *args, **kwargs):\n",
    "    dataset = kwargs['dataset']\n",
    "    # Calcula el fitness de una solución de timetabling siguiendo la fórmula del enunciado\n",
    "    return None\n",
    "\n",
    "#FUNCIONES AUXILIARES \n",
    "\n",
    "def howManyHours(solution, data):\n",
    "    \n",
    "    k = data['n_hours_day']\n",
    "    hoursPerSubjectAux = hoursPerSubject(data)\n",
    "    sol = []\n",
    "    \n",
    "    auxHour = 0\n",
    "    for r in range(0,len(hoursPerSubjectAux)):\n",
    "        sol.append([])\n",
    "        for y in range(0,data['n_days']):\n",
    "            sol[r].append(0)\n",
    "    \n",
    "    for i in  range(0,len(hoursPerSubjectAux)):\n",
    "        for j in range(0, hoursPerSubjectAux[i]):\n",
    "            print(i , (solution[auxHour] // k))\n",
    "            sol[i][solution[auxHour] // k] += 1\n",
    "            auxHour += 1\n",
    "    return sol\n",
    "    \n",
    "\n",
    "def hoursPerSubject(data):\n",
    "    hours =[]\n",
    "    courses = data['courses']\n",
    "    for i in range(0,len(courses)):\n",
    "        candidate = courses[i]\n",
    "        hours.append(candidate[1])\n",
    "    return hours\n",
    "\n",
    "#IMPORTANTE\n",
    "#PRUEBAS SITUACIONALES QUE HAY QUE BORRAR ANTES DE LA ENTREGA\n",
    "\n",
    "#candidate = generate_random_array_int(list(range(9)), 6)\n",
    "#print_timetabling_solution(candidate, dataset)\n",
    "#print(candidate)\n",
    "#print(calculate_p2(candidate, dataset=dataset))\n",
    "   \n",
    "\n",
    "\n",
    "\n",
    "# Pistas:\n",
    "# - Una función que devuelva la tabla de horarios de una solución\n",
    "# - Una función que devuelva la cantidad de horas por día de cada asignatura\n",
    "# - A través de args y kwargs se pueden pasar argumentos adicionales que vayamos a necesitar"
   ]
  },
  {
   "cell_type": "code",
   "execution_count": 20,
   "metadata": {
    "id": "4fEi9232nlfA"
   },
   "outputs": [],
   "source": [
    "fitness_timetabling(candidate, dataset=dataset) # Devuelve la fitness del candidato de ejemplo"
   ]
  },
  {
   "cell_type": "markdown",
   "metadata": {
    "id": "lfGUFrRPnlfB"
   },
   "source": [
    "## Operadores genéticos"
   ]
  },
  {
   "cell_type": "markdown",
   "metadata": {
    "id": "v0flBhGFnlfC"
   },
   "source": [
    "### Selección por torneo"
   ]
  },
  {
   "cell_type": "code",
   "execution_count": null,
   "metadata": {
    "id": "LdTe68E0nlfC"
   },
   "outputs": [],
   "source": [
    "def tournament_selection(population, fitness, number_parents, *args, **kwargs):\n",
    "    t = kwargs['tournament_size'] # Tamaño del torneo\n",
    "    # Selecciona number_parents individuos de la población mediante selección por torneo\n",
    "    return None\n",
    "\n",
    "# Pista:\n",
    "# - Crear una función auxiliar que genere un padre a partir de una selección por torneo\n",
    "# - Recuerda usar la misma librería de números aleatorios que en el resto del código"
   ]
  },
  {
   "cell_type": "markdown",
   "metadata": {
    "id": "gfU4IzJYnlfD"
   },
   "source": [
    "### Cruce de un punto"
   ]
  },
  {
   "cell_type": "code",
   "execution_count": null,
   "metadata": {
    "id": "JQbMwal-nlfD"
   },
   "outputs": [],
   "source": [
    "def one_point_crossover(parent1, parent2, p_cross, *args, **kwargs):\n",
    "    # Realiza el cruce de dos padres con una probabilidad p_cross\n",
    "    return None, None"
   ]
  },
  {
   "cell_type": "markdown",
   "metadata": {
    "id": "bwzDuUWznlfD"
   },
   "source": [
    "### Mutación uniforme"
   ]
  },
  {
   "cell_type": "code",
   "execution_count": null,
   "metadata": {
    "id": "lb6a8jKaWcqP"
   },
   "outputs": [],
   "source": [
    "def uniform_mutation(chromosome, p_mut, *args, **kwargs):\n",
    "    dataset = kwargs['dataset'] # Dataset con la misma estructura que el ejemplo\n",
    "    # Realiza la mutación gen a gen con una probabilidad p_mut\n",
    "    # Obtener el alfabeto del dataset para aplicar la mutación\n",
    "    return None"
   ]
  },
  {
   "cell_type": "markdown",
   "metadata": {
    "id": "NYjfHwrBWcqP"
   },
   "source": [
    "### Selección ambiental (reemplazo generacional)"
   ]
  },
  {
   "cell_type": "code",
   "execution_count": null,
   "metadata": {
    "id": "k4YS7PeHWcqQ"
   },
   "outputs": [],
   "source": [
    "def generational_replacement(population, fitness, offspring, fitness_offspring, *args, **kwargs):\n",
    "    # Realiza la sustitución generacional de la población\n",
    "    # Debe devolver tanto la nueva población como el fitness de la misma\n",
    "    return None, None"
   ]
  },
  {
   "cell_type": "markdown",
   "metadata": {
    "id": "N0IA_IPBnlfE"
   },
   "source": [
    "## Algoritmo genético"
   ]
  },
  {
   "cell_type": "markdown",
   "metadata": {
    "id": "muklCcCtnlfE"
   },
   "source": [
    "### Condición de parada (número de generaciones)"
   ]
  },
  {
   "cell_type": "code",
   "execution_count": null,
   "metadata": {
    "id": "z4SD4kwfnlfE"
   },
   "outputs": [],
   "source": [
    "def generation_stop(generation, fitness, *args, **kwargs):\n",
    "    max_gen=kwargs['max_gen']\n",
    "    # Comprueba si se cumple el criterio de parada (máximo número de generaciones)\n",
    "    return None"
   ]
  },
  {
   "cell_type": "markdown",
   "metadata": {
    "id": "KdK9P2BonlfF"
   },
   "source": [
    "### Algoritmo genético"
   ]
  },
  {
   "cell_type": "code",
   "execution_count": null,
   "metadata": {
    "id": "igfEa7LwnlfF"
   },
   "outputs": [],
   "source": [
    "def genetic_algorithm(generate_population, pop_size, fitness_function, stopping_criteria, offspring_size,\n",
    "                      selection, crossover, p_cross, mutation, p_mut, environmental_selection, *args, **kwargs):\n",
    "    # Aplica un algoritmo genético a un problema de maximización\n",
    "    population = None # Crea la población de individuos de tamaño pop_size\n",
    "    fitness = None # Contiene la evaluación de la población\n",
    "    best_fitness = [] # Guarda el mejor fitness de cada generación\n",
    "    mean_fitness = [] # Guarda el fitness medio de cada generación\n",
    "    generation = 0 # Contador de generaciones\n",
    "\n",
    "    # 1 - Inicializa la población con la función generate_population\n",
    "    # 2 - Evalúa la población con la función fitness_function\n",
    "    # 3 - Mientras no se cumpla el criterio de parada stopping_criteria\n",
    "    # 4 - Selección de padres con la función selection\n",
    "    # 5 - Cruce de padres mediante la función crossover con probabilidad p_cross\n",
    "    # 6 - Mutación de los descendientes con la función mutation con probabilidad p_mut\n",
    "    # 7 - Evaluación de los descendientes\n",
    "    # 8 - Generación de la nueva población con la función environmental_selection\n",
    "\n",
    "    return population, fitness, generation, best_fitness, mean_fitness"
   ]
  },
  {
   "cell_type": "markdown",
   "metadata": {
    "id": "E4qTuf1HWcqR"
   },
   "source": [
    "# Aproximación final propuesta\n",
    "Usa las siguientes celdas para desarrollar la aproximación final propuesta. Elimina aquellas que no apliquen en tu caso."
   ]
  },
  {
   "cell_type": "markdown",
   "metadata": {
    "id": "6E8TsSgQWcqR"
   },
   "source": [
    "## Representación y función de fitness propuestas"
   ]
  },
  {
   "cell_type": "markdown",
   "metadata": {
    "id": "8qxuoSHrWcqR"
   },
   "source": [
    "### Representación(es) propuesta(s)"
   ]
  },
  {
   "cell_type": "code",
   "execution_count": null,
   "metadata": {
    "id": "5wuFDF9MWcqR"
   },
   "outputs": [],
   "source": [
    "### Coloca aquí tus funciones propuestas para la generación de población inicial ###"
   ]
  },
  {
   "cell_type": "markdown",
   "metadata": {
    "id": "OuUpFh_0WcqR"
   },
   "source": [
    "### Función(es) de fitness propuesta(s)"
   ]
  },
  {
   "cell_type": "code",
   "execution_count": null,
   "metadata": {
    "id": "TEC-n6h1WcqS"
   },
   "outputs": [],
   "source": [
    "### Coloca aquí tus funciones de fitness propuestas ###"
   ]
  },
  {
   "cell_type": "markdown",
   "metadata": {
    "id": "jTnhtyh8WcqS"
   },
   "source": [
    "## Operadores genéticos"
   ]
  },
  {
   "cell_type": "markdown",
   "metadata": {
    "id": "1eikYDrKWcqS"
   },
   "source": [
    "### Selección"
   ]
  },
  {
   "cell_type": "code",
   "execution_count": null,
   "metadata": {
    "id": "QhHJUibiWcqS"
   },
   "outputs": [],
   "source": [
    "### Coloca aquí tus funciones de selección propuestas ###"
   ]
  },
  {
   "cell_type": "markdown",
   "metadata": {
    "id": "EhBuAAOHWcqT"
   },
   "source": [
    "### Cruce"
   ]
  },
  {
   "cell_type": "code",
   "execution_count": null,
   "metadata": {
    "id": "fg1_uarsWcqU"
   },
   "outputs": [],
   "source": [
    "### Coloca aquí tus funciones de cruce propuestas ###"
   ]
  },
  {
   "cell_type": "markdown",
   "metadata": {
    "id": "T94WyAR2WcqU"
   },
   "source": [
    "### Mutación"
   ]
  },
  {
   "cell_type": "code",
   "execution_count": null,
   "metadata": {
    "id": "W355EGI_WcqU"
   },
   "outputs": [],
   "source": [
    "### Coloca aquí tus funciones de mutación propuestas ###"
   ]
  },
  {
   "cell_type": "markdown",
   "metadata": {
    "id": "ipyLyLYdWcqU"
   },
   "source": [
    "### Selección ambiental"
   ]
  },
  {
   "cell_type": "code",
   "execution_count": null,
   "metadata": {
    "id": "PP8F9DFwWcqV"
   },
   "outputs": [],
   "source": [
    "### Coloca aquí tus funciones de reemplazo propuestas ###"
   ]
  },
  {
   "cell_type": "markdown",
   "metadata": {
    "id": "M0FvRCjxWcqV"
   },
   "source": [
    "### Criterio de parada"
   ]
  },
  {
   "cell_type": "code",
   "execution_count": null,
   "metadata": {
    "id": "uAgBjhs-WcqV"
   },
   "outputs": [],
   "source": [
    "### Coloca aquí tus funciones de parada propuestas ###"
   ]
  },
  {
   "cell_type": "markdown",
   "metadata": {
    "id": "9GR8z-HEnlfF"
   },
   "source": [
    "# Experimentos\n",
    "Usa la función `run_ga` para extraer resultados."
   ]
  },
  {
   "cell_type": "markdown",
   "metadata": {
    "id": "8bqZZ5hWnlfF"
   },
   "source": [
    "## Utilidades\n",
    "Usa estas funciones pre-programadas para ejecutar los experimentos y resumir el código."
   ]
  },
  {
   "cell_type": "markdown",
   "metadata": {
    "id": "lY9I23MSnlfG"
   },
   "source": [
    "### Temporizador"
   ]
  },
  {
   "cell_type": "code",
   "execution_count": null,
   "metadata": {
    "id": "oQsyNkxBnlfG"
   },
   "outputs": [],
   "source": [
    "################################# NO TOCAR #################################\n",
    "#                                                                          #\n",
    "import time\n",
    "\n",
    "def timer(func):\n",
    "    def wrapper(*args, **kwargs):\n",
    "        start = time.time()\n",
    "        res = func(*args, **kwargs)\n",
    "        end = time.time()\n",
    "        return *res, end - start\n",
    "    return wrapper\n",
    "#                                                                          #\n",
    "################################# NO TOCAR #################################\n",
    "\n",
    "# Este codigo temporiza la ejecución de una función cualquiera"
   ]
  },
  {
   "cell_type": "markdown",
   "metadata": {
    "id": "j3DttncwnlfG"
   },
   "source": [
    "### Envoltorios"
   ]
  },
  {
   "cell_type": "code",
   "execution_count": null,
   "metadata": {
    "id": "eeHNpIR7nlfG"
   },
   "outputs": [],
   "source": [
    "################################# NO TOCAR #################################\n",
    "#                                                                          #\n",
    "@timer\n",
    "def run_ga(generate_population, pop_size, fitness_function, stopping_criteria, offspring_size,\n",
    "           selection, crossover, p_cross, mutation, p_mut, environmental_selection, *args, **kwargs):\n",
    "    # Además del retorno de la función, se devuelve el tiempo de ejecución en segundos\n",
    "    return genetic_algorithm(generate_population, pop_size, fitness_function, stopping_criteria, offspring_size,\n",
    "                             selection, crossover, p_cross, mutation, p_mut, environmental_selection, *args, **kwargs)\n",
    "#                                                                          #\n",
    "################################# NO TOCAR #################################\n"
   ]
  },
  {
   "cell_type": "markdown",
   "metadata": {
    "id": "v_7q9FY7WcqX"
   },
   "source": [
    "### Datasets\n",
    "Configuraciones de horarios para utilizar en las pruebas."
   ]
  },
  {
   "cell_type": "code",
   "execution_count": null,
   "metadata": {
    "id": "mAgD3Ig-WcqX"
   },
   "outputs": [],
   "source": [
    "# Se deben probar los 6 datasets\n",
    "dataset1 = {\"n_courses\" : 3,\n",
    "            \"n_days\" : 3,\n",
    "            \"n_hours_day\" : 3,\n",
    "            \"courses\" : [(\"IA\", 1), (\"ALG\", 2), (\"BD\", 3)]}\n",
    "\n",
    "dataset2 = {\"n_courses\" : 4,\n",
    "            \"n_days\" : 3,\n",
    "            \"n_hours_day\" : 4,\n",
    "            \"courses\" : [(\"IA\", 1), (\"ALG\", 2), (\"BD\", 3), (\"POO\", 2)]}\n",
    "\n",
    "dataset3 = {\"n_courses\" : 4,\n",
    "            \"n_days\" : 4,\n",
    "            \"n_hours_day\" : 4,\n",
    "            \"courses\" : [(\"IA\", 2), (\"ALG\", 4), (\"BD\", 6), (\"POO\", 4)]}\n",
    "\n",
    "dataset4 = {\"n_courses\" : 5,\n",
    "            \"n_days\" : 4,\n",
    "            \"n_hours_day\" : 6,\n",
    "            \"courses\" : [(\"IA\", 2), (\"ALG\", 4), (\"BD\", 6), (\"POO\", 4), (\"AC\", 4)]}\n",
    "\n",
    "dataset5 = {\"n_courses\" : 7,\n",
    "            \"n_days\" : 4,\n",
    "            \"n_hours_day\" : 8,\n",
    "            \"courses\" : [(\"IA\", 2), (\"ALG\", 4), (\"BD\", 6), (\"POO\", 4), (\"AC\", 4), (\"FP\", 4), (\"TP\", 2)]}\n",
    "\n",
    "dataset6 = {\"n_courses\" : 11,\n",
    "            \"n_days\" : 5,\n",
    "            \"n_hours_day\" : 12,\n",
    "            \"courses\" : [(\"IA\", 2), (\"ALG\", 4), (\"BD\", 6), (\"POO\", 4), (\"AC\", 4), (\"FP\", 4), (\"TP\", 2), (\"FC\", 4), (\"TSO\", 2), (\"AM\", 4), (\"LMD\", 4)]}"
   ]
  },
  {
   "cell_type": "markdown",
   "metadata": {
    "id": "ZaGFG-7xWcqX"
   },
   "source": [
    "### Generación de números aleatorios"
   ]
  },
  {
   "cell_type": "code",
   "execution_count": null,
   "metadata": {
    "id": "jmONYrjCWcqX"
   },
   "outputs": [],
   "source": [
    "import numpy as np\n",
    "import random\n",
    "\n",
    "def set_seed(seed):\n",
    "    # Se debe fijar la semilla usada para generar números aleatorios\n",
    "    # Con la librería random\n",
    "    random.seed(seed)\n",
    "    # Con la librería numpy\n",
    "    np.random.seed(seed)"
   ]
  },
  {
   "cell_type": "markdown",
   "metadata": {
    "id": "9rqniPumWcqY"
   },
   "source": [
    "### Métricas\n",
    "Métricas a estudiar en los experimentos."
   ]
  },
  {
   "cell_type": "code",
   "execution_count": null,
   "metadata": {
    "id": "V59ZkNVjWcqZ"
   },
   "outputs": [],
   "source": [
    "################################# NO TOCAR #################################\n",
    "#                                                                          #\n",
    "def best_solution(population, fitness):\n",
    "    # Devuelve la mejor solución de la población\n",
    "    return population[fitness.index(max(fitness))]\n",
    "\n",
    "import matplotlib.pyplot as plt\n",
    "def plot_fitness_evolution(best_fitness, mean_fitness):\n",
    "    plt.plot(best_fitness, label='Best fitness')\n",
    "    plt.plot(mean_fitness, label='Mean fitness')\n",
    "    plt.xlabel('Generation')\n",
    "    plt.ylabel('Fitness')\n",
    "    plt.legend()\n",
    "    plt.show()\n",
    "#                                                                          #\n",
    "################################# NO TOCAR #################################"
   ]
  },
  {
   "cell_type": "markdown",
   "metadata": {
    "id": "tj4ndHuEnlfG"
   },
   "source": [
    "### Lanzador de experimentos"
   ]
  },
  {
   "cell_type": "code",
   "execution_count": null,
   "metadata": {
    "id": "6FBa0nSjnlfG"
   },
   "outputs": [],
   "source": [
    "from statistics import mean, median, stdev\n",
    "\n",
    "def launch_experiment(seeds, dataset, generate_population, pop_size, fitness_function, c1, c2, p1, p2, p3, stopping_criteria,\n",
    "                      offspring_size, selection, crossover, p_cross, mutation, p_mut, environmental_selection, *args, **kwargs):\n",
    "    best_individuals = []\n",
    "    best_inds_c1 = []\n",
    "    best_inds_c2 = []\n",
    "    best_inds_p1 = []\n",
    "    best_inds_p2 = []\n",
    "    best_inds_p3 = []\n",
    "    best_inds_fitness = []\n",
    "    best_fitnesses = []\n",
    "    mean_fitnesses = []\n",
    "    last_generations = []\n",
    "    execution_times = []\n",
    "    # Ejecutamos el algoritmo con cada semilla\n",
    "    for seed in seeds:\n",
    "        print(f\"Running Genetic Algorithm with seed {seed}\")\n",
    "        set_seed(seed)\n",
    "        population, fitness, generation, best_fitness, mean_fitness, execution_time = run_ga(generate_population, pop_size, fitness_function,stopping_criteria,\n",
    "                                                                                             offspring_size, selection, crossover, p_cross, mutation, p_mut,\n",
    "                                                                                             environmental_selection, dataset=dataset, *args, **kwargs)\n",
    "        best_individual = best_solution(population, fitness)\n",
    "        best_ind_c1 = c1(best_individual, dataset=dataset)\n",
    "        best_ind_c2 = c2(best_individual, dataset=dataset)\n",
    "        best_ind_p1 = p1(best_individual, dataset=dataset)\n",
    "        best_ind_p2 = p2(best_individual, dataset=dataset)\n",
    "        best_ind_p3 = p3(best_individual, dataset=dataset)\n",
    "        best_ind_fitness = fitness_function(best_individual, dataset=dataset)\n",
    "        best_individuals.append(best_individual)\n",
    "        best_inds_c1.append(best_ind_c1)\n",
    "        best_inds_c2.append(best_ind_c2)\n",
    "        best_inds_p1.append(best_ind_p1)\n",
    "        best_inds_p2.append(best_ind_p2)\n",
    "        best_inds_p3.append(best_ind_p3)\n",
    "        best_inds_fitness.append(best_ind_fitness)\n",
    "        best_fitnesses.append(best_fitness)\n",
    "        mean_fitnesses.append(mean_fitness)\n",
    "        last_generations.append(generation)\n",
    "        execution_times.append(execution_time)\n",
    "    # Imprimimos la media y desviación típica de los resultados obtenidos\n",
    "    print(\"Mean Best Fitness: \" + str(mean(best_inds_fitness)) + \" \" + u\"\\u00B1\" + \" \" + str(stdev(best_inds_fitness)))\n",
    "    print(\"Mean C1: \" + str(mean(best_inds_c1)) + \" \" + u\"\\u00B1\" + \" \" + str(stdev(best_inds_c1)))\n",
    "    print(\"Mean C2: \" + str(mean(best_inds_c2)) + \" \" + u\"\\u00B1\" + \" \" + str(stdev(best_inds_c2)))\n",
    "    print(\"Mean P1: \" + str(mean(best_inds_p1)) + \" \" + u\"\\u00B1\" + \" \" + str(stdev(best_inds_p1)))\n",
    "    print(\"Mean P2: \" + str(mean(best_inds_p2)) + \" \" + u\"\\u00B1\" + \" \" + str(stdev(best_inds_p2)))\n",
    "    print(\"Mean P3: \" + str(mean(best_inds_p3)) + \" \" + u\"\\u00B1\" + \" \" + str(stdev(best_inds_p3)))\n",
    "    print(\"Mean Execution Time: \" + str(mean(execution_times)) + \" \" + u\"\\u00B1\" + \" \" + str(stdev(execution_times)))\n",
    "    print(\"Mean Number of Generations: \" + str(mean(last_generations)) + \" \" + u\"\\u00B1\" + \" \" + str(stdev(last_generations)))\n",
    "    # Mostramos la evolución de la fitness para la mejor ejecución\n",
    "    print(\"Best execution fitness evolution:\")\n",
    "    best_execution = best_inds_fitness.index(max(best_inds_fitness))\n",
    "    plot_fitness_evolution(best_fitnesses[best_execution], mean_fitnesses[best_execution])\n",
    "    # Mostramos la evolución de la fitness para la ejecución mediana\n",
    "    print(\"Median execution fitness evolution:\")\n",
    "    median_execution = best_inds_fitness.index(median(best_inds_fitness))\n",
    "    plot_fitness_evolution(best_fitnesses[median_execution], mean_fitnesses[median_execution])\n",
    "    # Mostramos la evolución de la fitness para la peor ejecución\n",
    "    print(\"Worst execution fitness evolution:\")\n",
    "    worst_execution = best_inds_fitness.index(min(best_inds_fitness))\n",
    "    plot_fitness_evolution(best_fitnesses[worst_execution], mean_fitnesses[worst_execution])\n",
    "\n",
    "    return best_individuals, best_inds_fitness, best_fitnesses, mean_fitnesses, last_generations, execution_times"
   ]
  },
  {
   "cell_type": "markdown",
   "metadata": {
    "id": "6l3mk4KUnlfG"
   },
   "source": [
    "## Ejecuciones\n",
    "Este espacio de la práctica está reservado a las ejecuciones de los algoritmos. Se recomienda el uso del método launch_experiment."
   ]
  },
  {
   "cell_type": "code",
   "execution_count": null,
   "metadata": {
    "id": "A2xM4VN4nlfG"
   },
   "outputs": [],
   "source": [
    "# Crear un conjunto de 31 semillas para los experimentos\n",
    "seeds = [1234567890 + i*23 for i in range(31)] # Semillas de ejemplo, cambiar por las semillas que se quieran\n",
    "launch_experiment(seeds, dataset1, generate_initial_population_timetabling, 50, fitness_timetabling, calculate_c1, calculate_c2,\n",
    "                  calculate_p1, calculate_p2, calculate_p3, generation_stop, 50, tournament_selection, one_point_crossover, 0.8,\n",
    "                  uniform_mutation, 0.1, generational_replacement, max_gen=50, tournament_size=2)\n",
    "# Recuerda también mostrar el horario de la mejor solución obtenida en los casos peor, mejor y mediano"
   ]
  },
  {
   "cell_type": "markdown",
   "metadata": {
    "id": "dznNYK44nlfG"
   },
   "source": [
    "### Primera aproximación"
   ]
  },
  {
   "cell_type": "code",
   "execution_count": null,
   "metadata": {
    "id": "J5TlnFldnlfH"
   },
   "outputs": [],
   "source": [
    "### Coloca aquí tus experimentos ###"
   ]
  },
  {
   "cell_type": "markdown",
   "metadata": {
    "id": "9J59QSZrnlfH"
   },
   "source": [
    "**Resultados de la Primera Aproximación**\n",
    "\n",
    "**--> Incluye aquí <--**\n",
    "\n",
    "La tabla de resultados y una valoración crítica de los resultados."
   ]
  },
  {
   "cell_type": "markdown",
   "metadata": {
    "id": "8c02KEGQnlfH"
   },
   "source": [
    "### Aproximaciones Propuestas"
   ]
  },
  {
   "cell_type": "code",
   "execution_count": null,
   "metadata": {
    "id": "5Jn8eC6UnlfH"
   },
   "outputs": [],
   "source": [
    "### Coloca aquí tus experimentos ###"
   ]
  },
  {
   "cell_type": "markdown",
   "metadata": {
    "id": "M8wQo-oMnlfI"
   },
   "source": [
    "**Resultados de Aproximaciones Propuestas**\n",
    "\n",
    "**--> Incluye aquí <--**\n",
    "\n",
    "Una tabla por cada aproximación propuesta y una valoración crítica de los resultados."
   ]
  },
  {
   "cell_type": "markdown",
   "metadata": {
    "id": "53ND2ZcCnlfI"
   },
   "source": [
    "## Conclusiones\n",
    "\n",
    "**--> Incluye aquí <--**\n",
    "\n",
    "Tabla comparativa entre la primera aproximación y las aproximaciones propuestas, añade una valoración crítica de los resultados, especificando las diferencias que encuentres, ventajas de las diferentes aproximaciones, el efecto de la configuración del problema, etc."
   ]
  }
 ],
 "metadata": {
  "colab": {
   "include_colab_link": true,
   "provenance": []
  },
  "kernelspec": {
   "display_name": "Python 3",
   "language": "python",
   "name": "python3"
  },
  "language_info": {
   "codemirror_mode": {
    "name": "ipython",
    "version": 3
   },
   "file_extension": ".py",
   "mimetype": "text/x-python",
   "name": "python",
   "nbconvert_exporter": "python",
   "pygments_lexer": "ipython3",
   "version": "3.13.0"
  }
 },
 "nbformat": 4,
 "nbformat_minor": 0
}
