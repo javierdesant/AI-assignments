{
 "cells": [
  {
   "cell_type": "markdown",
   "metadata": {
    "id": "lY-pfkAxnle2"
   },
   "source": [
    "# A. Enunciado de la práctica"
   ]
  },
  {
   "cell_type": "markdown",
   "metadata": {
    "id": "odvJR32Enle5"
   },
   "source": [
    "## 1. Objetivos de la práctica\n",
    "El desarrollo de esta práctica pretende que el alumnado analice, diseñe e implemente soluciones a un problema usando las técnicas de exploración en espacios de estados impartidas en la asignatura Inteligencia Artificial (IA). Para ello, el alumnado desarrollará de forma grupal (por cuartetos) un proyecto de programación en lenguaje Python mediante el uso del entorno de programación Google Colab y cuadernos de Python."
   ]
  },
  {
   "cell_type": "markdown",
   "metadata": {
    "id": "KVH9e_lSnle6"
   },
   "source": [
    "## 2. Caso de estudio\n",
    "Se pretende resolver una variante del problema de las reinas de ajedrez, utilizando caballos en su lugar para descubrir cuántos caballos pueden estar presentes en un tablero de ajedrez sin amenazarse mutuamente. Cualquier configuración de caballos en el tablero es válida siempre y cuando no se amenacen mutuamente, pero se desea encontrar el máximo número de caballos. A continuación se ven varios ejemplos sobre un tablero de tamaño 3x3:\n",
    "\n",
    "```\n",
    "Optimal and Valid   Valid   Not valid\n",
    "K·K                 K·K     K··\n",
    "·K·                 ···     ··K\n",
    "K·K                 K··     ·K·\n",
    "```\n",
    "\n",
    "* Se proporciona un tablero de tamaño MxN (M=Alto, N=Ancho).\n",
    "* El objetivo del algoritmo es encontrar una configuración válida con el máximo número de caballos posible.\n",
    "* El movimiento del caballo forma una L en 8 direcciones posibles, consulta la figura para tener una referencia visual:\n",
    "\n",
    "<img src=\"https://culturacientifica.com/app/uploads/2022/10/imagen-2-560x553.jpg\" alt=\"drawing\" style=\"width:200px;\"/>"
   ]
  },
  {
   "cell_type": "markdown",
   "metadata": {
    "id": "vakmiWD_nle7"
   },
   "source": [
    "## 3. Desarrollo\n",
    "El desarrollo de esta práctica supone completar este cuaderno de python para resolver el problema para varias configuraciones diferentes usando técnicas de Búsqueda. Además, usando este cuaderno de python, se quieren mostrar resultados de la ejecución de los algoritmos para extraer conclusiones sobre las configuraciones del problema. También se desea hacer una comparativa entre los algoritmos de búsqueda seleccionados.\n",
    "\n",
    "Es posible que la configuración del problema sea demasiado grande para alguno de los algoritmos. Como regla general, si el algoritmo tarda más de 5 minutos en completar su ejecución se puede declarar que el algoritmo no ha encontrado solución en un tiempo razonable (y lo indicamos en el análisis de resultados)\n",
    "\n",
    "* Se proporcionan varias configuraciones:\n",
    "    * Un tablero de **2x2**,\n",
    "    * Un tablero de **3x3**,\n",
    "    * Un tablero de **3x5**,\n",
    "    * Un tablero de **5x5**,\n",
    "    * Un tablero de **8x8**.\n",
    "* Se desea aplicar dos algoritmos:\n",
    "    * **Branch & Bound**: Se quiere obtener una solución óptima, (máximo número de caballos)\n",
    "    * **A-Star**: Se debe proporcionar (al menos) una heurística admisible para encontrar una solución óptima. En esta memoria se debe justificar que la heurística sea admisible, haciendo la demostración correspondiente.\n",
    "\n",
    "Para cada configuración y algoritmo se debe proporcionar una tabla de estas características (Puede usarse un generador de tablas https://www.tablesgenerator.com/markdown_tables o pandas https://pandas.pydata.org/docs/user_guide/index.html):\n",
    "\n",
    "| Tablero | Algoritmo | Tiempo | Caballos |\n",
    "|---------|-----------|--------|----------|\n",
    "| 3x3     |  A*       | 3s     | 4        |\n",
    "| 3x3     |  B&B      | 5s     | 4        |\n",
    "| 3x5     |  A*       | 10s    | 6        |"
   ]
  },
  {
   "cell_type": "markdown",
   "metadata": {
    "id": "k7n6wwIjnle8"
   },
   "source": [
    "## 4. Normativa de la práctica\n",
    "Para el desarrollo del proyecto de programación se proporciona este cuaderno que sirve a modo de proyecto de programación. Se han propuesto varias configuraciones de tablero para utilizar en las distintas pruebas. Se permiten crear todas las funciones adicionales que sea necesario siempre y cuando se respete la estructura general de este cuaderno. Este cuaderno es el único entregable, por tanto desarrollar código fuera de él no es recomendable.\n",
    "\n",
    "Además de explicar las decisiones tomadas, será necesario realizar una comparativa de resultados en una o varias tablas, así como incluir una comparativa  final.\n",
    "\n",
    "La práctica debe realizarse teniendo en cuenta la siguiente normativa:\n",
    "* NO está permitido alterar los nombres, parámetros ni tipo de retorno de ninguno de los métodos proporcionados. El método modificado se evaluará como 0 así como todos los métodos que dependan de él.\n",
    "* No está permitido el uso de librerías externas excepto numpy y pandas. El uso de librerías externas hará que se evalúe la práctica como 0.\n",
    "* La práctica se realizará de forma grupal (grupos de 4 alumnos). Cada grupo deberá desarrollar de manera independiente su propia práctica y realizar su propia entrega.\n",
    "* El plagio de la práctica queda estrictamente prohibido. La detección de plagio supondrá una calificación de 0 en la convocatoria de la asignatura para todos los alumnos implicados, así como la posibilidad de apertura de expediente académico disciplinar.\n",
    "* Para ser evaluado de la práctica es obligatorio entregarla en plazo, habiendo realizado correctamente al menos una funcionalidad de las pedidas. Una entrega fuera de plazo será evaluada como 0.\n",
    "* Usa este cuaderno a modo de memoria, justificando las decisiones que tomes a lo largo del proceso de desarrollo. El desarrollo en texto puntúa de cara a la nota de la práctica.\n",
    "* De cara a la entrega es estrictamente necesario entregar el cuaderno ejecutado al completo. Una entrega que no haya sido ejecutada con éxito hasta la última celda será evaluada como 0. (Entregad el archivo .ipynb)\n",
    "* Se debe comentar el código adecuadamente. Este apartado es puntuable."
   ]
  },
  {
   "cell_type": "markdown",
   "metadata": {
    "id": "FyyEkYr_nle8"
   },
   "source": [
    "# Cuerpo de la práctica\n",
    "Usa las siguientes celdas para desarrollar todo el código pedido. Recuerda respetar esta estructura general y añadir celdas siempre dentro de cada apartado."
   ]
  },
  {
   "cell_type": "markdown",
   "metadata": {
    "id": "kY6Qan4Qnle9"
   },
   "source": [
    "## Gestión de estados"
   ]
  },
  {
   "cell_type": "markdown",
   "metadata": {
    "id": "KxjhQNXJnle9"
   },
   "source": [
    "### Estado inicial"
   ]
  },
  {
   "cell_type": "code",
   "execution_count": 17,
   "metadata": {
    "id": "lmcM4aPvnle-"
   },
   "outputs": [],
   "source": [
    "import numpy as np\n",
    "def initial_state(M, N):\n",
    "    # Crea un tablero vacío usando 0s\n",
    "    board_array = np.zeros((M,N))\n",
    "    return board_array"
   ]
  },
  {
   "cell_type": "code",
   "execution_count": 18,
   "metadata": {
    "id": "4Ls4POJvnle_"
   },
   "outputs": [
    {
     "name": "stdout",
     "output_type": "stream",
     "text": [
      "[[0. 0. 0.]\n",
      " [0. 0. 0.]\n",
      " [0. 0. 0.]]\n"
     ]
    }
   ],
   "source": [
    "# Ejemplo de uso de la función estado inicial\n",
    "board = initial_state(3, 3)\n",
    "print(board)"
   ]
  },
  {
   "cell_type": "markdown",
   "metadata": {
    "id": "JVeEjXCjnle_"
   },
   "source": [
    "### Expansion de estados"
   ]
  },
  {
   "cell_type": "code",
   "execution_count": 19,
   "metadata": {
    "id": "qwDZJdfInlfA"
   },
   "outputs": [],
   "source": [
    "import numpy as np\n",
    "movimientos = [(2,1),(2,-1),(-2,1),(-2,-1),(1,-2),(-1,-2),(1,2), (-1,2)]\n",
    "\n",
    "def expand(board):\n",
    "    boards = [] # Crea una lista vacía de tableros\n",
    "    \n",
    "    # Crea una lista de tableros con todas las posibles jugadas\n",
    "    validPositions = getValidPositions(board)\n",
    "    for i in range(0, len(validPositions)):\n",
    "        actualPosition = validPositions[i]\n",
    "        aux = putHorse(board,actualPosition[0],actualPosition[1])\n",
    "        boards.append(aux.copy())\n",
    "    return boards # Devolvemos una lista de tableros\n",
    "\n",
    "def getValidPositions(board):\n",
    "    \n",
    "    actual_board = putInvalidPositions(board)\n",
    "    \n",
    "    validPositions = []\n",
    "    dimensions = np.shape(board)\n",
    "    for i in range(0, dimensions[0]):\n",
    "        for j in range(0, dimensions[1]):\n",
    "            if actual_board[i,j] == 0:\n",
    "                aux = [i,j]\n",
    "                validPositions.append(aux.copy())\n",
    "    return validPositions\n",
    "\n",
    "\n",
    "def putInvalidPositions(board):\n",
    "    new_board = board.copy()\n",
    "    horsesPosition = howManyHorses(board)\n",
    "    dimensions = np.shape(board)\n",
    "    for y in range(0,len(horsesPosition)):\n",
    "        \n",
    "        \n",
    "        for i in range(0,len(movimientos)):\n",
    "            aux = horsesPosition[y].copy()\n",
    "            for j in range(0,2):\n",
    "                movimientoActual = movimientos[i]\n",
    "                aux[j] = aux[j] +  movimientoActual[j]\n",
    "            \n",
    "            if(aux[0] >= 0 and aux[0] < dimensions[0] and aux[1] >= 0 and aux[1] < dimensions[1]):\n",
    "                new_board[aux[0],aux[1]] = -1    \n",
    "    return new_board\n",
    "   \n",
    "\n",
    "def howManyHorses(board):\n",
    "    horses = []\n",
    "    dimensions = np.shape(board)\n",
    "    for i in range(0, dimensions[0]):\n",
    "        for j in range(0, dimensions[1]):\n",
    "            if (board[i, j] == 1):\n",
    "                horses.append([i,j])\n",
    "    return horses\n",
    "\n",
    "\n",
    "def putHorse(board ,i ,j):\n",
    "    \n",
    "    new_board = board.copy()\n",
    "    new_board[i, j] = 1\n",
    "    \n",
    "    return new_board\n",
    "\n",
    "# Pistas:\n",
    "# - Una función que copie un tablero completo\n",
    "# - Una función que coloque un caballo en una posición dada en i, j\n",
    "# - Una estructura de datos con los movimientos posibles para un caballo"
   ]
  },
  {
   "cell_type": "code",
   "execution_count": 20,
   "metadata": {
    "id": "4fEi9232nlfA"
   },
   "outputs": [
    {
     "data": {
      "text/plain": [
       "[array([[1., 0., 0.],\n",
       "        [0., 0., 0.],\n",
       "        [0., 0., 0.]]),\n",
       " array([[0., 1., 0.],\n",
       "        [0., 0., 0.],\n",
       "        [0., 0., 0.]]),\n",
       " array([[0., 0., 1.],\n",
       "        [0., 0., 0.],\n",
       "        [0., 0., 0.]]),\n",
       " array([[0., 0., 0.],\n",
       "        [1., 0., 0.],\n",
       "        [0., 0., 0.]]),\n",
       " array([[0., 0., 0.],\n",
       "        [0., 1., 0.],\n",
       "        [0., 0., 0.]]),\n",
       " array([[0., 0., 0.],\n",
       "        [0., 0., 1.],\n",
       "        [0., 0., 0.]]),\n",
       " array([[0., 0., 0.],\n",
       "        [0., 0., 0.],\n",
       "        [1., 0., 0.]]),\n",
       " array([[0., 0., 0.],\n",
       "        [0., 0., 0.],\n",
       "        [0., 1., 0.]]),\n",
       " array([[0., 0., 0.],\n",
       "        [0., 0., 0.],\n",
       "        [0., 0., 1.]])]"
      ]
     },
     "execution_count": 20,
     "metadata": {},
     "output_type": "execute_result"
    }
   ],
   "source": [
    "expand(board) # Debe devolver una lista de tableros\n"
   ]
  },
  {
   "cell_type": "markdown",
   "metadata": {
    "id": "HSrznxK8nlfA"
   },
   "source": [
    "### Solucion alcanzada"
   ]
  },
  {
   "cell_type": "code",
   "execution_count": 21,
   "metadata": {
    "id": "zei8cHgWnlfA"
   },
   "outputs": [],
   "source": [
    "import numpy as np\n",
    "def is_solution(board):\n",
    "    # Verifica si un tablero es solución\n",
    "    sol = False\n",
    "    dimensions = np.shape(board)\n",
    "    numRealHorses = (dimensions[0] * dimensions[1]) / 2\n",
    "    numCurrentHorses=0\n",
    "    dimensions = np.shape(board)\n",
    "    for i in range(0, dimensions[0]):\n",
    "        for j in range(0, dimensions[1]):\n",
    "            if (board[i, j] == 1):\n",
    "                numCurrentHorses += 1\n",
    "    if(numCurrentHorses >= redondear(numRealHorses)) and (getValidPositions(board) == []):\n",
    "        sol = True\n",
    "    else: sol = False\n",
    "    # Haz todas las comprobaciones necesarias para determinar\n",
    "    # si el tablero es solución\n",
    "\n",
    "    return sol # Devuelve True si es solución, False en caso contrario\n",
    "\n",
    "def redondear(n):\n",
    "    if ((n - int(n)) == 0.5):\n",
    "        return round(n + 0.1)\n",
    "    return round(n)\n"
   ]
  },
  {
   "cell_type": "markdown",
   "metadata": {
    "id": "lfGUFrRPnlfB"
   },
   "source": [
    "## Métricas"
   ]
  },
  {
   "cell_type": "markdown",
   "metadata": {
    "id": "v0flBhGFnlfC"
   },
   "source": [
    "### Funcion de coste"
   ]
  },
  {
   "cell_type": "code",
   "execution_count": 22,
   "metadata": {
    "id": "LdTe68E0nlfC"
   },
   "outputs": [],
   "source": [
    "def cost(path): # path debe contener VARIOS tableros\n",
    "    # Calcula el coste de un camino\n",
    "    # Esto debería ser posible: board = path[-1]\n",
    "    cost = costUnique(path[-1])\n",
    "    # Calcula el coste de un camino completo\n",
    "\n",
    "    return cost\n",
    "\n",
    "def costUnique(board):\n",
    "    numInvalid = 0\n",
    "    invalid = putInvalidPositions(board)\n",
    "    dimensions = np.shape(board)\n",
    "    for i in range(0, dimensions[0]):\n",
    "        for j in range(0, dimensions[1]):\n",
    "            if invalid[i,j] == -1:\n",
    "                numInvalid = numInvalid + 1\n",
    "    return  (numInvalid)          \n",
    "# - Recuerda que A* y B&B funcionan minimizando el coste.\n",
    "# - ¿Podemos afrontar este problema de otra manera? Maximizar las casillas ocupadas NO funciona..."
   ]
  },
  {
   "cell_type": "markdown",
   "metadata": {
    "id": "gfU4IzJYnlfD"
   },
   "source": [
    "### Heurística(s)"
   ]
  },
  {
   "cell_type": "code",
   "execution_count": 23,
   "metadata": {
    "id": "JQbMwal-nlfD"
   },
   "outputs": [],
   "source": [
    "def heuristic_1(board):\n",
    "    # Calcula una heurística para un tablero\n",
    "    heuristic = 0.0\n",
    "    numValid = 0.0\n",
    "    # Calcula la heurística de un tablero aquí\n",
    "    invalid = putInvalidPositions(board)\n",
    "    dimensions = np.shape(board)\n",
    "    for i in range(0, dimensions[0]):\n",
    "        for j in range(0, dimensions[1]):\n",
    "            if invalid[i,j] == 0:\n",
    "                numValid = numValid + 1\n",
    "\n",
    "    if((dimensions[0] * dimensions[1]) < 8 or dimensions[0] == 1 or dimensions[1] == 1):\n",
    "        return costUnique(board)\n",
    "    else:\n",
    "        heuristic = numValid \n",
    "        return heuristic\n",
    "\n",
    "# Pista:\n",
    "# - Al igual que con el coste cuanto menor sea el valor de la heurística mejor, ya que se pretende minimizar.\n",
    "# - Puedes probar con heuristicas no admisibles, pero al menos una de ellas debe ser admisible para puntuar."
   ]
  },
  {
   "cell_type": "markdown",
   "metadata": {
    "id": "bwzDuUWznlfD"
   },
   "source": [
    "#### Admisibilidad de la heurística\n",
    "\n",
    "Necesitamos una heurística que nos lleve hacia el número de caballos máximos que se pueden llegar a colocar, por tanto, tenemos que ver cuál es el máximo número de casillas en el que se puede poner un caballo sin estar amenazado por otro. Esto deriva en que nuestra heurística debe ser el número de casillas vacías, es decir, sin caballos ya colocados ni amenazadas por algún caballo.\n",
    "\n",
    "Excepto en los casos base en los que no hay posiciones incorrectas, como tableros 1xN o Nx1, y tableros con número de casillas menor que 8, nuestra heurística es admisible para el resto de casos, siendo siempre menor que el coste del camino real a la solución. Esto se debe a que con nuestra heurística estamos diciendo cuál es el máximo de casillas que pueden albergar caballos, e incluso en el mejor de los casos, en el que en todas las casillas realmente se pueda colocar un caballo, nunca va a poder superar el número previamente estimado, ya que no hay más plazas disponibles que las de nuestra heurística."
   ]
  },
  {
   "cell_type": "markdown",
   "metadata": {
    "id": "N0IA_IPBnlfE"
   },
   "source": [
    "## Algoritmo de búsqueda"
   ]
  },
  {
   "cell_type": "markdown",
   "metadata": {
    "id": "muklCcCtnlfE"
   },
   "source": [
    "### Poda"
   ]
  },
  {
   "cell_type": "code",
   "execution_count": 24,
   "metadata": {
    "id": "z4SD4kwfnlfE"
   },
   "outputs": [],
   "source": [
    "def prune(path_list):\n",
    "    # Si detecta que dos caminos llevan al mismo estado,\n",
    "    # solo nos interesa aquel camino de menor coste\n",
    "    # Más adelante usamos la poda despues de ordenar\n",
    "    newPath_list = path_list.copy()\n",
    "    i=0\n",
    "    while i < len(newPath_list):\n",
    "        j=i\n",
    "\n",
    "        while j < len(newPath_list):    \n",
    "\n",
    "            if np.array_equal(newPath_list[i][-1] ,newPath_list[j][-1]) and i != j :\n",
    "                if(cost(newPath_list[i]) <= cost(newPath_list[j])):\n",
    "                    newPath_list.pop(j)\n",
    "\n",
    "                else:newPath_list.pop(i)\n",
    "                i += 1\n",
    "            else:\n",
    "                j += 1 \n",
    "        \n",
    "        i += 1        \n",
    "    return newPath_list # Devuelve una lista de caminos"
   ]
  },
  {
   "cell_type": "markdown",
   "metadata": {
    "id": "0yC5spdWnlfE"
   },
   "source": [
    "### Ordenacion"
   ]
  },
  {
   "cell_type": "code",
   "execution_count": 25,
   "metadata": {
    "id": "0BSeCXAJnlfF"
   },
   "outputs": [],
   "source": [
    "# *args y **kwargs son argumentos variables, si el argumento no es reconocido es almacenado en estas variables.\n",
    "# Aquí se utilizan para ignorar argumentos innecesarios.\n",
    "\n",
    "def order_astar(old_paths, new_paths, c, h, *args, **kwargs):\n",
    "    # Ordena la lista de caminos segun la heuristica y el coste\n",
    "    union_paths = old_paths + new_paths\n",
    "    union_paths.sort(key=lambda path: c(path) + h(path[-1]))\n",
    "    return prune(union_paths) # Devuelve la lista de caminos ordenada y podada segun A*\n",
    "\n",
    "def order_byb(old_paths, new_paths, c, *args, **kwargs):\n",
    "    # Ordena la lista de caminos segun el coste\n",
    "    union_paths = old_paths + new_paths\n",
    "    \n",
    "    union_paths.sort(key= c)\n",
    "\n",
    "    return prune(union_paths) # Devuelve la lista de caminos ordenada y podada segun B&B"
   ]
  },
  {
   "cell_type": "markdown",
   "metadata": {
    "id": "KdK9P2BonlfF"
   },
   "source": [
    "### Algoritmo de búsqueda"
   ]
  },
  {
   "cell_type": "code",
   "execution_count": 26,
   "metadata": {
    "id": "igfEa7LwnlfF"
   },
   "outputs": [],
   "source": [
    "def search(initial_board, expansion, cost, heuristic, ordering, solution):\n",
    "    # Realiza una búsqueda en el espacio de estados\n",
    "    paths = [[initial_board]] # Crea la lista de caminos\n",
    "    sol = None # Este es el estado solucion\n",
    "    \n",
    "    # 1 - Mientras haya caminos y no se haya encontrado solución\n",
    "    while(len(paths) != 0 and sol == None):\n",
    "        # 2 - Extraer el primer camino\n",
    "        current_path = paths.pop(0)\n",
    "        # 3 - Comprobar si estamos ante un estado solución\n",
    "        \n",
    "        if(solution(current_path[-1])):\n",
    "            sol = current_path[-1]\n",
    "            return sol\n",
    "        # 4 - Si no es solución, expandir el camino/ Si es solucion, detenemos y vamos al paso 7.\n",
    "        else:\n",
    "            # 5 - Para cada estado expandido nuevo, añadirlo al camino lo que genera una lista de nuevos caminos\n",
    "            expandList = expansion(current_path[-1])\n",
    "            new_paths = []\n",
    "            for i in range(0, len(expandList)):\n",
    "                current_state = expandList[i].copy()\n",
    "                current_newP = current_path.copy()\n",
    "                current_newP.append(current_state.copy())\n",
    "                new_paths.append(current_newP.copy())\n",
    "            # 6 - Ordenar los nuevos caminos y viejos caminos, y realizar poda. Volver al paso 1.\n",
    "            paths = ordering(paths, new_paths, cost, heuristic)\n",
    "    # 7 - Devolver el camino si es solución, si no devolver None\n",
    "    return None"
   ]
  },
  {
   "cell_type": "markdown",
   "metadata": {
    "id": "9GR8z-HEnlfF"
   },
   "source": [
    "# Experimentos\n",
    "Usa las funciones `search_horse_byb` y `search_horse_astar` para extraer resultados."
   ]
  },
  {
   "cell_type": "markdown",
   "metadata": {
    "id": "8bqZZ5hWnlfF"
   },
   "source": [
    "## Utilidades\n",
    "Usa estas funciones pre-programadas para ejecutar los experimentos y resumir el código."
   ]
  },
  {
   "cell_type": "markdown",
   "metadata": {
    "id": "lY9I23MSnlfG"
   },
   "source": [
    "### Temporizador"
   ]
  },
  {
   "cell_type": "code",
   "execution_count": 27,
   "metadata": {
    "id": "oQsyNkxBnlfG"
   },
   "outputs": [],
   "source": [
    "################################# NO TOCAR #################################\n",
    "#                                                                          #\n",
    "import time\n",
    "\n",
    "def timer(func):\n",
    "    def wrapper(*args, **kwargs):\n",
    "        start = time.time()\n",
    "        res = func(*args, **kwargs)\n",
    "        end = time.time()\n",
    "        print(\"Executime time: \", end - start, \" seconds\")\n",
    "        return res\n",
    "    return wrapper\n",
    "#                                                                          #\n",
    "################################# NO TOCAR #################################\n",
    "\n",
    "# Este codigo temporiza la ejecución de una función cualquiera"
   ]
  },
  {
   "cell_type": "markdown",
   "metadata": {
    "id": "j3DttncwnlfG"
   },
   "source": [
    "### Envoltorios"
   ]
  },
  {
   "cell_type": "code",
   "execution_count": 28,
   "metadata": {
    "id": "eeHNpIR7nlfG"
   },
   "outputs": [],
   "source": [
    "################################# NO TOCAR #################################\n",
    "#                                                                          #\n",
    "@timer\n",
    "def search_horse_byb(initial_board):\n",
    "    return search(initial_board, expand, cost, None, order_byb, is_solution)\n",
    "\n",
    "@timer\n",
    "def search_horse_astar(initial_board, heuristic):\n",
    "    return search(initial_board, expand, cost, heuristic, order_astar, is_solution)\n",
    "#                                                                          #\n",
    "################################# NO TOCAR #################################\n"
   ]
  },
  {
   "cell_type": "markdown",
   "metadata": {
    "id": "tj4ndHuEnlfG"
   },
   "source": [
    "### Lanzador de experimentos"
   ]
  },
  {
   "cell_type": "code",
   "execution_count": 29,
   "metadata": {
    "id": "6FBa0nSjnlfG"
   },
   "outputs": [],
   "source": [
    "CONF = {'2x2': (2, 2),\n",
    "        '3x3': (3, 3),\n",
    "        '3x5': (3, 5),\n",
    "        '5x5': (5, 5),\n",
    "        '8x8': (8, 8),\n",
    "        }\n",
    "\n",
    "def measure_solution(board):\n",
    "    # Devuelve el número de caballos en la solución\n",
    "    # Es necesario programarla para poder medir la calidad de la solución\n",
    " return np.sum(board == 1)\n",
    "\n",
    "def launch_experiment(configuration, heuristic=None):\n",
    "    conf = CONF[configuration]\n",
    "    print(f\"Running {'A*' if heuristic else 'B&B'} with {configuration} board\")\n",
    "    if heuristic:\n",
    "        sol = search_horse_astar(initial_state(*conf), heuristic)\n",
    "    else:\n",
    "        sol = search_horse_byb(initial_state(*conf))\n",
    "    n_c = measure_solution(sol)\n",
    "    print(f\"Solution found: \\n{sol}\")\n",
    "    print(f\"Number of horses in solution: {n_c}\")\n",
    "\n",
    "    return sol, n_c"
   ]
  },
  {
   "cell_type": "markdown",
   "metadata": {
    "id": "6l3mk4KUnlfG"
   },
   "source": [
    "## Ejecuciones\n",
    "Este espacio de la práctica está reservado a las ejecuciones de los algoritmos. Se recomienda el uso del método launch_experiment."
   ]
  },
  {
   "cell_type": "code",
   "execution_count": 30,
   "metadata": {
    "id": "A2xM4VN4nlfG"
   },
   "outputs": [
    {
     "name": "stdout",
     "output_type": "stream",
     "text": [
      "Running B&B with 2x2 board\n",
      "Executime time:  0.0015904903411865234  seconds\n",
      "Solution found: \n",
      "[[1. 1.]\n",
      " [1. 1.]]\n",
      "Number of horses in solution: 4\n",
      "\n",
      "Running A* with 3x5 board\n",
      "Executime time:  0.8940057754516602  seconds\n",
      "Solution found: \n",
      "[[1. 0. 1. 0. 1.]\n",
      " [0. 1. 0. 1. 0.]\n",
      " [1. 0. 1. 0. 1.]]\n",
      "Number of horses in solution: 8\n",
      "Execution finished\n"
     ]
    }
   ],
   "source": [
    "launch_experiment('2x2') # Ejemplo de uso para B&B\n",
    "print()\n",
    "launch_experiment('3x5', heuristic=heuristic_1) # Ejemplo de uso para A*\n",
    "print(\"Execution finished\")"
   ]
  },
  {
   "cell_type": "markdown",
   "metadata": {
    "id": "dznNYK44nlfG"
   },
   "source": [
    "### Branch & Bound"
   ]
  },
  {
   "cell_type": "code",
   "execution_count": 31,
   "metadata": {
    "id": "J5TlnFldnlfH"
   },
   "outputs": [
    {
     "name": "stdout",
     "output_type": "stream",
     "text": [
      "Running B&B with 2x2 board\n",
      "Executime time:  0.0018012523651123047  seconds\n",
      "Solution found: \n",
      "[[1. 1.]\n",
      " [1. 1.]]\n",
      "Number of horses in solution: 4\n",
      "\n",
      "Running B&B with 3x3 board\n",
      "Executime time:  0.14123988151550293  seconds\n",
      "Solution found: \n",
      "[[1. 0. 1.]\n",
      " [0. 1. 0.]\n",
      " [1. 0. 1.]]\n",
      "Number of horses in solution: 5\n",
      "\n",
      "Running B&B with 3x5 board\n",
      "Executime time:  139.9278745651245  seconds\n",
      "Solution found: \n",
      "[[1. 0. 1. 0. 1.]\n",
      " [0. 1. 0. 1. 0.]\n",
      " [1. 0. 1. 0. 1.]]\n",
      "Number of horses in solution: 8\n",
      "\n"
     ]
    }
   ],
   "source": [
    "### Coloca aquí tus experimentos ###\n",
    "launch_experiment('2x2')\n",
    "print()\n",
    "launch_experiment('3x3')\n",
    "print()\n",
    "launch_experiment('3x5')\n",
    "print()\n",
    "#launch_experiment('5x5')\n",
    "#print()\n",
    "#launch_experiment('8x8')\n",
    "#print()\n",
    "#descomentar para probar, pero cuidado con los ultimos casos puesto que son muy exigentes computacionalmente"
   ]
  },
  {
   "cell_type": "markdown",
   "metadata": {
    "id": "9J59QSZrnlfH"
   },
   "source": [
    "**Resultados de Branch & Bound**\n",
    "\n",
    "| **Tablero** | **Algoritmo** | **Tiempo** | **Caballos** |\n",
    "|-------------|---------------|------------|--------------|\n",
    "| 2x2         | B&B           | 0.002s     | 4            |\n",
    "| 3x3         | B&B           | 0.15s       | 5            |\n",
    "| 3x5         | B&B           | 2min 20s   | 8            |\n",
    "| 5x5         | B&B           | ---        | ---          |\n",
    "| 8x8         | B&B           | ---        | ---          |\n",
    "\n",
    "B&B puede ser efectivo en problemas pequeños ya que garantiza la exploración de todas las soluciones posibles. Esto se vuelve un problema en configuraciones más grandes, donde el número de combinaciones se dispara, volviendo al algoritmo extremadamente ineficiente. \n",
    "\n",
    "En un tablero de 3x5, su tiempo de resolución aumenta exponencialmente, en los de 5x5 y 8x8 el algoritmo ya no es capaz de encontrar una solución en un tiempo razonable."
   ]
  },
  {
   "cell_type": "markdown",
   "metadata": {
    "id": "8c02KEGQnlfH"
   },
   "source": [
    "### A*"
   ]
  },
  {
   "cell_type": "code",
   "execution_count": 32,
   "metadata": {
    "id": "5Jn8eC6UnlfH"
   },
   "outputs": [
    {
     "name": "stdout",
     "output_type": "stream",
     "text": [
      "Running A* with 2x2 board\n",
      "Executime time:  0.002665281295776367  seconds\n",
      "Solution found: \n",
      "[[1. 1.]\n",
      " [1. 1.]]\n",
      "Number of horses in solution: 4\n",
      "\n",
      "Running A* with 3x3 board\n",
      "Executime time:  0.006595611572265625  seconds\n",
      "Solution found: \n",
      "[[1. 0. 1.]\n",
      " [0. 1. 0.]\n",
      " [1. 0. 1.]]\n",
      "Number of horses in solution: 5\n",
      "\n",
      "Running A* with 3x5 board\n",
      "Executime time:  0.8837156295776367  seconds\n",
      "Solution found: \n",
      "[[1. 0. 1. 0. 1.]\n",
      " [0. 1. 0. 1. 0.]\n",
      " [1. 0. 1. 0. 1.]]\n",
      "Number of horses in solution: 8\n",
      "\n"
     ]
    }
   ],
   "source": [
    "### Coloca aquí tus experimentos ###\n",
    "launch_experiment('2x2', heuristic_1)\n",
    "print()\n",
    "launch_experiment('3x3', heuristic_1)\n",
    "print()\n",
    "launch_experiment('3x5', heuristic_1)\n",
    "print()\n",
    "#launch_experiment('5x5', heuristic_1)\n",
    "#print()\n",
    "#launch_experiment('8x8', heuristic_1)\n",
    "#print()\n",
    "#descomentar para probar, pero cuidado con los ultimos casos puesto que son muy exigentes computacionalmente"
   ]
  },
  {
   "cell_type": "markdown",
   "metadata": {
    "id": "M8wQo-oMnlfI"
   },
   "source": [
    "**Resultados de A-Star**\n",
    "\n",
    "| **Tablero** | **Algoritmo** | **Tiempo** | **Caballos** |\n",
    "|-------------|---------------|------------|--------------|\n",
    "| 2x2         | A*            | 0.003s      | 4            |\n",
    "| 3x3         | A*            | 0.007s     | 5            |\n",
    "| 3x5         | A*            | 0.9s       | 8            |\n",
    "| 5x5         | A*            | ---        | ---          |\n",
    "| 8x8         | A*            | ---        | ---          |\n",
    "\n",
    "La velocidad de A* es gracias a su capacidad de reducir las ramas no prometedoras mediante el uso de una heurística admisible, pero el algoritmo enfrenta dificultades cuando se aumenta la dimensión del tablero. \n",
    "\n",
    "El aumento exponencial en el número de posibles combinaciones hizo que A* no pudiera encontrar una solución óptima en los tableros de 5x5 y 8x8, aunque sí que fue eficaz en los tableros más pequeños."
   ]
  },
  {
   "cell_type": "markdown",
   "metadata": {
    "id": "53ND2ZcCnlfI"
   },
   "source": [
    "## Conclusiones\n",
    "\n",
    "| **Tablero**    | 2x2    | 3x3    | 3x5      | 5x5 | 8x8 |\n",
    "|----------------|--------|--------|----------|-----|-----|\n",
    "| **Tiempo B&B** | 0.002s | 0.15s   | 2min 20s | --- | --- |\n",
    "| **Tiempo A***  | 0.003s  | 0.007s | 0.9s     | --- | --- |\n",
    "| **Caballos**   | 4      | 5      | 8        | --- | --- |\n",
    "\n",
    "El algoritmo A* destaca por su capacidad para manejar configuraciones más grandes y complejas de manera eficiente, mientras que B&B puede resultar más eficaz para resolver problemas pequeños, pero se vuelve mucho más ineficiente que A* en problemas grandes. Esto se observa en el tablero 3x5, donde B&B completa la solución en 2 minutos 20 segundos, en comparación con A*, que tarda menos de 1 segundo.\n",
    "\n",
    "En resumen, A* es una mejor opción para encontrar soluciones eficientes en problemas de búsqueda de soluciones con configuraciones grandes, mientras que B&B sólo supera a A* en problemas de un tamaño mínimo."
   ]
  }
 ],
 "metadata": {
  "colab": {
   "collapsed_sections": [
    "KxjhQNXJnle9",
    "JVeEjXCjnle_",
    "HSrznxK8nlfA"
   ],
   "provenance": []
  },
  "kernelspec": {
   "display_name": "Python 3",
   "language": "python",
   "name": "python3"
  },
  "language_info": {
   "codemirror_mode": {
    "name": "ipython",
    "version": 3
   },
   "file_extension": ".py",
   "mimetype": "text/x-python",
   "name": "python",
   "nbconvert_exporter": "python",
   "pygments_lexer": "ipython3",
   "version": "3.13.0"
  }
 },
 "nbformat": 4,
 "nbformat_minor": 0
}
