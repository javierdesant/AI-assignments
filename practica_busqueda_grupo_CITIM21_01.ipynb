{
 "cells": [
  {
   "cell_type": "markdown",
   "metadata": {
    "id": "lY-pfkAxnle2"
   },
   "source": [
    "# A. Enunciado de la práctica"
   ]
  },
  {
   "cell_type": "markdown",
   "metadata": {
    "id": "odvJR32Enle5"
   },
   "source": [
    "## 1. Objetivos de la práctica\n",
    "El desarrollo de esta práctica pretende que el alumnado analice, diseñe e implemente soluciones a un problema usando las técnicas de exploración en espacios de estados impartidas en la asignatura Inteligencia Artificial (IA). Para ello, el alumnado desarrollará de forma grupal (por cuartetos) un proyecto de programación en lenguaje Python mediante el uso del entorno de programación Google Colab y cuadernos de Python."
   ]
  },
  {
   "cell_type": "markdown",
   "metadata": {
    "id": "KVH9e_lSnle6"
   },
   "source": [
    "## 2. Caso de estudio\n",
    "Se pretende resolver una variante del problema de las reinas de ajedrez, utilizando caballos en su lugar para descubrir cuántos caballos pueden estar presentes en un tablero de ajedrez sin amenazarse mutuamente. Cualquier configuración de caballos en el tablero es válida siempre y cuando no se amenacen mutuamente, pero se desea encontrar el máximo número de caballos. A continuación se ven varios ejemplos sobre un tablero de tamaño 3x3:\n",
    "\n",
    "```\n",
    "Optimal and Valid   Valid   Not valid\n",
    "K·K                 K·K     K··\n",
    "·K·                 ···     ··K\n",
    "K·K                 K··     ·K·\n",
    "```\n",
    "\n",
    "* Se proporciona un tablero de tamaño MxN (M=Alto, N=Ancho).\n",
    "* El objetivo del algoritmo es encontrar una configuración válida con el máximo número de caballos posible.\n",
    "* El movimiento del caballo forma una L en 8 direcciones posibles, consulta la figura para tener una referencia visual:\n",
    "\n",
    "<img src=\"https://culturacientifica.com/app/uploads/2022/10/imagen-2-560x553.jpg\" alt=\"drawing\" style=\"width:200px;\"/>"
   ]
  },
  {
   "cell_type": "markdown",
   "metadata": {
    "id": "vakmiWD_nle7"
   },
   "source": [
    "## 3. Desarrollo\n",
    "El desarrollo de esta práctica supone completar este cuaderno de python para resolver el problema para varias configuraciones diferentes usando técnicas de Búsqueda. Además, usando este cuaderno de python, se quieren mostrar resultados de la ejecución de los algoritmos para extraer conclusiones sobre las configuraciones del problema. También se desea hacer una comparativa entre los algoritmos de búsqueda seleccionados.\n",
    "\n",
    "Es posible que la configuración del problema sea demasiado grande para alguno de los algoritmos. Como regla general, si el algoritmo tarda más de 5 minutos en completar su ejecución se puede declarar que el algoritmo no ha encontrado solución en un tiempo razonable (y lo indicamos en el análisis de resultados)\n",
    "\n",
    "* Se proporcionan varias configuraciones:\n",
    "    * Un tablero de **2x2**,\n",
    "    * Un tablero de **3x3**,\n",
    "    * Un tablero de **3x5**,\n",
    "    * Un tablero de **5x5**,\n",
    "    * Un tablero de **8x8**.\n",
    "* Se desea aplicar dos algoritmos:\n",
    "    * **Branch & Bound**: Se quiere obtener una solución óptima, (máximo número de caballos)\n",
    "    * **A-Star**: Se debe proporcionar (al menos) una heurística admisible para encontrar una solución óptima. En esta memoria se debe justificar que la heurística sea admisible, haciendo la demostración correspondiente.\n",
    "\n",
    "Para cada configuración y algoritmo se debe proporcionar una tabla de estas características (Puede usarse un generador de tablas https://www.tablesgenerator.com/markdown_tables o pandas https://pandas.pydata.org/docs/user_guide/index.html):\n",
    "\n",
    "| Tablero | Algoritmo | Tiempo | Caballos |\n",
    "|---------|-----------|--------|----------|\n",
    "| 3x3     |  A*       | 3s     | 4        |\n",
    "| 3x3     |  B&B      | 5s     | 4        |\n",
    "| 3x5     |  A*       | 10s    | 6        |"
   ]
  },
  {
   "cell_type": "markdown",
   "metadata": {
    "id": "k7n6wwIjnle8"
   },
   "source": [
    "## 4. Normativa de la práctica\n",
    "Para el desarrollo del proyecto de programación se proporciona este cuaderno que sirve a modo de proyecto de programación. Se han propuesto varias configuraciones de tablero para utilizar en las distintas pruebas. Se permiten crear todas las funciones adicionales que sea necesario siempre y cuando se respete la estructura general de este cuaderno. Este cuaderno es el único entregable, por tanto desarrollar código fuera de él no es recomendable.\n",
    "\n",
    "Además de explicar las decisiones tomadas, será necesario realizar una comparativa de resultados en una o varias tablas, así como incluir una comparativa  final.\n",
    "\n",
    "La práctica debe realizarse teniendo en cuenta la siguiente normativa:\n",
    "* NO está permitido alterar los nombres, parámetros ni tipo de retorno de ninguno de los métodos proporcionados. El método modificado se evaluará como 0 así como todos los métodos que dependan de él.\n",
    "* No está permitido el uso de librerías externas excepto numpy y pandas. El uso de librerías externas hará que se evalúe la práctica como 0.\n",
    "* La práctica se realizará de forma grupal (grupos de 4 alumnos). Cada grupo deberá desarrollar de manera independiente su propia práctica y realizar su propia entrega.\n",
    "* El plagio de la práctica queda estrictamente prohibido. La detección de plagio supondrá una calificación de 0 en la convocatoria de la asignatura para todos los alumnos implicados, así como la posibilidad de apertura de expediente académico disciplinar.\n",
    "* Para ser evaluado de la práctica es obligatorio entregarla en plazo, habiendo realizado correctamente al menos una funcionalidad de las pedidas. Una entrega fuera de plazo será evaluada como 0.\n",
    "* Usa este cuaderno a modo de memoria, justificando las decisiones que tomes a lo largo del proceso de desarrollo. El desarrollo en texto puntúa de cara a la nota de la práctica.\n",
    "* De cara a la entrega es estrictamente necesario entregar el cuaderno ejecutado al completo. Una entrega que no haya sido ejecutada con éxito hasta la última celda será evaluada como 0. (Entregad el archivo .ipynb)\n",
    "* Se debe comentar el código adecuadamente. Este apartado es puntuable."
   ]
  },
  {
   "cell_type": "markdown",
   "metadata": {
    "id": "FyyEkYr_nle8"
   },
   "source": [
    "# Cuerpo de la práctica\n",
    "Usa las siguientes celdas para desarrollar todo el código pedido. Recuerda respetar esta estructura general y añadir celdas siempre dentro de cada apartado."
   ]
  },
  {
   "cell_type": "markdown",
   "metadata": {
    "id": "kY6Qan4Qnle9"
   },
   "source": [
    "## Gestión de estados"
   ]
  },
  {
   "cell_type": "markdown",
   "metadata": {
    "id": "KxjhQNXJnle9"
   },
   "source": [
    "### Estado inicial"
   ]
  },
  {
   "cell_type": "code",
   "execution_count": 17,
   "metadata": {
    "id": "lmcM4aPvnle-"
   },
   "outputs": [],
   "source": [
    "import numpy as np\n",
    "def initial_state(M, N):\n",
    "    # Crea un tablero vacío usando 0s\n",
    "    board_array = np.zeros((M,N))\n",
    "    return board_array"
   ]
  },
  {
   "cell_type": "code",
   "execution_count": 18,
   "metadata": {
    "id": "4Ls4POJvnle_"
   },
   "outputs": [
    {
     "name": "stdout",
     "output_type": "stream",
     "text": [
      "[[0. 0. 0.]\n",
      " [0. 0. 0.]\n",
      " [0. 0. 0.]]\n"
     ]
    }
   ],
   "source": [
    "# Ejemplo de uso de la función estado inicial\n",
    "board = initial_state(3, 3)\n",
    "print(board)"
   ]
  },
  {
   "cell_type": "markdown",
   "metadata": {
    "id": "JVeEjXCjnle_"
   },
   "source": [
    "### Expansion de estados"
   ]
  },
  {
   "cell_type": "code",
   "execution_count": 49,
   "metadata": {
    "id": "qwDZJdfInlfA"
   },
   "outputs": [],
   "source": [
    "import numpy as np\n",
    "movimientos = [(2,1),(2,-1),(-2,1),(-2,-1),(1,-2),(-1,-2),(1,2), (-1,2)]\n",
    "\n",
    "def expand(board):\n",
    "    boards = [] # Crea una lista vacía de tableros\n",
    "    \n",
    "    # Crea una lista de tableros con todas las posibles jugadas\n",
    "    validPositions = getValidPositions(board)\n",
    "    for i in range(0, len(validPositions)):\n",
    "        actualPosition = validPositions[i]\n",
    "        aux = putHorse(board,actualPosition[0],actualPosition[1])\n",
    "        boards.append(aux.copy())\n",
    "    return boards # Devolvemos una lista de tableros\n",
    "\n",
    "def getValidPositions(board):\n",
    "    \n",
    "    actual_board = putInvalidPositions(board)\n",
    "    \n",
    "    validPositions = []\n",
    "    dimensions = np.shape(board)\n",
    "    for i in range(0, dimensions[0]):\n",
    "        for j in range(0, dimensions[1]):\n",
    "            if actual_board[i,j] == 0:\n",
    "                aux = [i,j]\n",
    "                validPositions.append(aux.copy())\n",
    "    return validPositions\n",
    "\n",
    "\n",
    "def putInvalidPositions(board):\n",
    "    new_board = board.copy()\n",
    "    horsesPosition = howManyHorses(board)\n",
    "    dimensions = np.shape(board)\n",
    "    for y in range(0,len(horsesPosition)):\n",
    "        \n",
    "        \n",
    "        for i in range(0,len(movimientos)):\n",
    "            aux = horsesPosition[y].copy()\n",
    "            for j in range(0,2):\n",
    "                movimientoActual = movimientos[i]\n",
    "                aux[j] = aux[j] +  movimientoActual[j]\n",
    "            \n",
    "            if(aux[0] >= 0 and aux[0] < dimensions[0] and aux[1] >= 0 and aux[1] < dimensions[1]):\n",
    "                new_board[aux[0],aux[1]] = -1    \n",
    "    return new_board\n",
    "   \n",
    "\n",
    "def howManyHorses(board):\n",
    "    horses = []\n",
    "    dimensions = np.shape(board)\n",
    "    for i in range(0, dimensions[0]):\n",
    "        for j in range(0, dimensions[1]):\n",
    "            if board[i,j] == 1:\n",
    "                aux = [i,j]\n",
    "                horses.append(aux)\n",
    "    return horses\n",
    "\n",
    "\n",
    "def putHorse(board ,i ,j):\n",
    "    \n",
    "    new_board = board.copy()\n",
    "    new_board[i, j] = 1\n",
    "    \n",
    "    return new_board\n",
    "\n",
    "# Pistas:\n",
    "# - Una función que copie un tablero completo\n",
    "# - Una función que coloque un caballo en una posición dada en i, j\n",
    "# - Una estructura de datos con los movimientos posibles para un caballo"
   ]
  },
  {
   "cell_type": "code",
   "execution_count": 50,
   "metadata": {
    "id": "4fEi9232nlfA"
   },
   "outputs": [
    {
     "data": {
      "text/plain": [
       "[array([[1., 0., 0.],\n",
       "        [0., 0., 0.],\n",
       "        [0., 0., 0.]]),\n",
       " array([[0., 1., 0.],\n",
       "        [0., 0., 0.],\n",
       "        [0., 0., 0.]]),\n",
       " array([[0., 0., 1.],\n",
       "        [0., 0., 0.],\n",
       "        [0., 0., 0.]]),\n",
       " array([[0., 0., 0.],\n",
       "        [1., 0., 0.],\n",
       "        [0., 0., 0.]]),\n",
       " array([[0., 0., 0.],\n",
       "        [0., 1., 0.],\n",
       "        [0., 0., 0.]]),\n",
       " array([[0., 0., 0.],\n",
       "        [0., 0., 1.],\n",
       "        [0., 0., 0.]]),\n",
       " array([[0., 0., 0.],\n",
       "        [0., 0., 0.],\n",
       "        [1., 0., 0.]]),\n",
       " array([[0., 0., 0.],\n",
       "        [0., 0., 0.],\n",
       "        [0., 1., 0.]]),\n",
       " array([[0., 0., 0.],\n",
       "        [0., 0., 0.],\n",
       "        [0., 0., 1.]])]"
      ]
     },
     "execution_count": 50,
     "metadata": {},
     "output_type": "execute_result"
    }
   ],
   "source": [
    "expand(board) # Debe devolver una lista de tableros\n"
   ]
  },
  {
   "cell_type": "markdown",
   "metadata": {
    "id": "HSrznxK8nlfA"
   },
   "source": [
    "### Solucion alcanzada"
   ]
  },
  {
   "cell_type": "code",
   "execution_count": 21,
   "metadata": {
    "id": "zei8cHgWnlfA"
   },
   "outputs": [],
   "source": [
    "def is_solution(board):\n",
    "    # Verifica si un tablero es solución\n",
    "    sol = None\n",
    "    dimensions = np.shape(board)\n",
    "    numHorses = (dimensions[0] * dimensions[1]) / 2\n",
    "    if((len(howManyHorses(board)) >= redondear(numHorses)) and (getValidPositions(board) == [])):\n",
    "        sol = True\n",
    "    else: sol = False\n",
    "    # Haz todas las comprobaciones necesarias para determinar\n",
    "    # si el tablero es solución\n",
    "\n",
    "    return sol # Devuelve True si es solución, False en caso contrario\n",
    "\n",
    "def redondear(n):\n",
    "    if ((n - int(n)) == 0.5):\n",
    "        return round(n + 0.1)\n",
    "    return round(n)\n"
   ]
  },
  {
   "cell_type": "markdown",
   "metadata": {
    "id": "lfGUFrRPnlfB"
   },
   "source": [
    "## Métricas"
   ]
  },
  {
   "cell_type": "markdown",
   "metadata": {
    "id": "v0flBhGFnlfC"
   },
   "source": [
    "### Funcion de coste"
   ]
  },
  {
   "cell_type": "code",
   "execution_count": null,
   "metadata": {
    "id": "LdTe68E0nlfC"
   },
   "outputs": [],
   "source": [
    "def cost(path): # path debe contener VARIOS tableros\n",
    "    # Calcula el coste de un camino\n",
    "    # Esto debería ser posible: board = path[-1]\n",
    "    cost = 0\n",
    "    \n",
    "    dimensions = np.shape(path)\n",
    "    for i in range(0,dimensions[0]):\n",
    "        cost = cost + costUnique(path[i])\n",
    "    # Calcula el coste de un camino completo\n",
    "\n",
    "    return cost\n",
    "\n",
    "def costUnique(board):\n",
    "    numInvalid = 0\n",
    "    invalid = putInvalidPositions(board)\n",
    "    dimensions = np.shape(board)\n",
    "    for i in range(0, dimensions[0]):\n",
    "        for j in range(0, dimensions[1]):\n",
    "            if invalid[i,j] == -1:\n",
    "                numInvalid = numInvalid + 1\n",
    "    return  (numInvalid) / 2          \n",
    "# - Recuerda que A* y B&B funcionan minimizando el coste.\n",
    "# - ¿Podemos afrontar este problema de otra manera? Maximizar las casillas ocupadas NO funciona..."
   ]
  },
  {
   "cell_type": "markdown",
   "metadata": {
    "id": "gfU4IzJYnlfD"
   },
   "source": [
    "### Heurística(s)"
   ]
  },
  {
   "cell_type": "code",
   "execution_count": 28,
   "metadata": {
    "id": "JQbMwal-nlfD"
   },
   "outputs": [],
   "source": [
    "def heuristic_1(board):\n",
    "    # Calcula una heurística para un tablero\n",
    "    heuristic = 0.0\n",
    "    numValid = 0.0\n",
    "    # Calcula la heurística de un tablero aquí\n",
    "    invalid = putInvalidPositions(board)\n",
    "    dimensions = np.shape(board)\n",
    "    for i in range(0, dimensions[0]):\n",
    "        for j in range(0, dimensions[1]):\n",
    "            if invalid[i,j] == 0:\n",
    "                numValid = numValid + 1\n",
    "\n",
    "    if((dimensions[0] * dimensions[1]) < 8 or dimensions[0] == 1 or dimensions[1] == 1):\n",
    "        return costUnique(board)\n",
    "    else:\n",
    "        heuristic = numValid / 2\n",
    "        return heuristic\n",
    "\n",
    "# Pista:\n",
    "# - Al igual que con el coste cuanto menor sea el valor de la heurística mejor, ya que se pretende minimizar.\n",
    "# - Puedes probar con heuristicas no admisibles, pero al menos una de ellas debe ser admisible para puntuar."
   ]
  },
  {
   "cell_type": "markdown",
   "metadata": {
    "id": "bwzDuUWznlfD"
   },
   "source": [
    "#### Admisibilidad de la heurística\n",
    "Excepto en los casos base en los que no hay posiciones incorrectas como tableros 1xN o Nx1 y tableros con numero de casillas menor que 8, nuestra heuristica es admisible para el resto de casos siendo siempre menor que el coste del camino real a la solución."
   ]
  },
  {
   "cell_type": "markdown",
   "metadata": {
    "id": "N0IA_IPBnlfE"
   },
   "source": [
    "## Algoritmo de búsqueda"
   ]
  },
  {
   "cell_type": "markdown",
   "metadata": {
    "id": "muklCcCtnlfE"
   },
   "source": [
    "### Poda"
   ]
  },
  {
   "cell_type": "code",
   "execution_count": null,
   "metadata": {
    "id": "z4SD4kwfnlfE"
   },
   "outputs": [],
   "source": [
    "def prune(path_list):\n",
    "    # Si detecta que dos caminos llevan al mismo estado,\n",
    "    # solo nos interesa aquel camino de menor coste\n",
    "    # Más adelante usamos la poda despues de ordenar\n",
    "    for path in path_list[0]:\n",
    "        currentBoard0 = path[-1]\n",
    "        for path in path_list[1]:\n",
    "            currentBoard1 = path[-1]\n",
    "            if(currentBoard0 == currentBoard1):\n",
    "                currentCost0 = cost(currentBoard0)\n",
    "                currentCost1 = cost(currentBoard1)\n",
    "                if(currentCost0 <= currentCost1):\n",
    "                    path_list[1].pop(currentBoard1)\n",
    "                else: path.list[0].pop(currentBoard0)\n",
    "    return [] # Devuelve una lista de caminos"
   ]
  },
  {
   "cell_type": "markdown",
   "metadata": {
    "id": "0yC5spdWnlfE"
   },
   "source": [
    "### Ordenacion"
   ]
  },
  {
   "cell_type": "code",
   "execution_count": null,
   "metadata": {
    "id": "0BSeCXAJnlfF"
   },
   "outputs": [],
   "source": [
    "# *args y **kwargs son argumentos variables, si el argumento no es reconocido es almacenado en estas variables.\n",
    "# Aquí se utilizan para ignorar argumentos innecesarios.\n",
    "\n",
    "def order_astar(old_paths, new_paths, c, h, *args, **kwargs):\n",
    "    # Ordena la lista de caminos segun la heuristica y el coste\n",
    "    return prune([]) # Devuelve la lista de caminos ordenada y podada segun A*\n",
    "\n",
    "def order_byb(old_paths, new_paths, c, *args, **kwargs):\n",
    "    # Ordena la lista de caminos segun el coste\n",
    "    \n",
    "    return prune([]) # Devuelve la lista de caminos ordenada y podada segun B&B"
   ]
  },
  {
   "cell_type": "markdown",
   "metadata": {
    "id": "KdK9P2BonlfF"
   },
   "source": [
    "### Algoritmo de búsqueda"
   ]
  },
  {
   "cell_type": "code",
   "execution_count": null,
   "metadata": {
    "id": "igfEa7LwnlfF"
   },
   "outputs": [],
   "source": [
    "def search(initial_board, expansion, cost, heuristic, ordering, solution):\n",
    "    # Realiza una búsqueda en el espacio de estados\n",
    "    paths = None # Crea la lista de caminos\n",
    "    sol = None # Este es el estado solucion\n",
    "    \n",
    "    # 1 - Mientras haya caminos y no se haya encontrado solución\n",
    "    # 2 - Extraer el primer camino\n",
    "    # 3 - Comprobar si estamos ante un estado solución\n",
    "    # 4 - Si no es solución, expandir el camino/ Si es solucion, detenemos y vamos al paso 7.\n",
    "    # 5 - Para cada estado expandido nuevo, añadirlo al camino lo que genera una lista de nuevos caminos\n",
    "    # 6 - Ordenar los nuevos caminos y viejos caminos, y realizar poda. Volver al paso 1.\n",
    "    # 7 - Devolver el camino si es solución, si no devolver None\n",
    "\n",
    "    if len(paths) > 0:\n",
    "        return sol # Devuelve solo la solucion, no el camino solucion\n",
    "    else:\n",
    "        return None"
   ]
  },
  {
   "cell_type": "markdown",
   "metadata": {
    "id": "9GR8z-HEnlfF"
   },
   "source": [
    "# Experimentos\n",
    "Usa las funciones `search_horse_byb` y `search_horse_astar` para extraer resultados."
   ]
  },
  {
   "cell_type": "markdown",
   "metadata": {
    "id": "8bqZZ5hWnlfF"
   },
   "source": [
    "## Utilidades\n",
    "Usa estas funciones pre-programadas para ejecutar los experimentos y resumir el código."
   ]
  },
  {
   "cell_type": "markdown",
   "metadata": {
    "id": "lY9I23MSnlfG"
   },
   "source": [
    "### Temporizador"
   ]
  },
  {
   "cell_type": "code",
   "execution_count": 132,
   "metadata": {
    "id": "oQsyNkxBnlfG"
   },
   "outputs": [],
   "source": [
    "################################# NO TOCAR #################################\n",
    "#                                                                          #\n",
    "import time\n",
    "\n",
    "def timer(func):\n",
    "    def wrapper(*args, **kwargs):\n",
    "        start = time.time()\n",
    "        res = func(*args, **kwargs)\n",
    "        end = time.time()\n",
    "        print(\"Executime time: \", end - start, \" seconds\")\n",
    "        return res\n",
    "    return wrapper\n",
    "#                                                                          #\n",
    "################################# NO TOCAR #################################\n",
    "\n",
    "# Este codigo temporiza la ejecución de una función cualquiera"
   ]
  },
  {
   "cell_type": "markdown",
   "metadata": {
    "id": "j3DttncwnlfG"
   },
   "source": [
    "### Envoltorios"
   ]
  },
  {
   "cell_type": "code",
   "execution_count": 133,
   "metadata": {
    "id": "eeHNpIR7nlfG"
   },
   "outputs": [],
   "source": [
    "################################# NO TOCAR #################################\n",
    "#                                                                          #\n",
    "@timer\n",
    "def search_horse_byb(initial_board):\n",
    "    return search(initial_board, expand, cost, None, order_byb, is_solution)\n",
    "\n",
    "@timer\n",
    "def search_horse_astar(initial_board, heuristic):\n",
    "    return search(initial_board, expand, cost, heuristic, order_astar, is_solution)\n",
    "#                                                                          #\n",
    "################################# NO TOCAR #################################\n"
   ]
  },
  {
   "cell_type": "markdown",
   "metadata": {
    "id": "tj4ndHuEnlfG"
   },
   "source": [
    "### Lanzador de experimentos"
   ]
  },
  {
   "cell_type": "code",
   "execution_count": 31,
   "metadata": {
    "id": "6FBa0nSjnlfG"
   },
   "outputs": [],
   "source": [
    "CONF = {'2x2': (2, 2),\n",
    "        '3x3': (3, 3),\n",
    "        '3x5': (3, 5),\n",
    "        '5x5': (5, 5),\n",
    "        '8x8': (8, 8),\n",
    "        }\n",
    "\n",
    "def measure_solution(board):\n",
    "    # Devuelve el número de caballos en la solución\n",
    "    dimensions = np.shape(board)\n",
    "    for i in range(0, dimensions[0]):\n",
    "        for j in range(0, dimensions[1]):\n",
    "            if board[i,j] == 1:\n",
    "                numHorses = numHorses + 1\n",
    "\n",
    "    # Es necesario programarla para poder medir la calidad de la solución\n",
    "    return numHorses\n",
    "\n",
    "def launch_experiment(configuration, heuristic=None):\n",
    "    conf = CONF[configuration]\n",
    "    print(f\"Running {'A*' if heuristic else 'B&B'} with {configuration} board\")\n",
    "    if heuristic:\n",
    "        sol = search_horse_astar(initial_state(*conf), heuristic)\n",
    "    else:\n",
    "        sol = search_horse_byb(initial_state(*conf))\n",
    "    n_c = measure_solution(sol)\n",
    "    print(f\"Solution found: \\n{sol}\")\n",
    "    print(f\"Number of horses in solution: {n_c}\")\n",
    "\n",
    "    return sol, n_c"
   ]
  },
  {
   "cell_type": "markdown",
   "metadata": {
    "id": "6l3mk4KUnlfG"
   },
   "source": [
    "## Ejecuciones\n",
    "Este espacio de la práctica está reservado a las ejecuciones de los algoritmos. Se recomienda el uso del método launch_experiment."
   ]
  },
  {
   "cell_type": "code",
   "execution_count": 32,
   "metadata": {
    "id": "A2xM4VN4nlfG"
   },
   "outputs": [
    {
     "name": "stdout",
     "output_type": "stream",
     "text": [
      "Running B&B with 2x2 board\n"
     ]
    },
    {
     "ename": "NameError",
     "evalue": "name 'search_horse_byb' is not defined",
     "output_type": "error",
     "traceback": [
      "\u001b[1;31m---------------------------------------------------------------------------\u001b[0m",
      "\u001b[1;31mNameError\u001b[0m                                 Traceback (most recent call last)",
      "Cell \u001b[1;32mIn[32], line 1\u001b[0m\n\u001b[1;32m----> 1\u001b[0m \u001b[43mlaunch_experiment\u001b[49m\u001b[43m(\u001b[49m\u001b[38;5;124;43m'\u001b[39;49m\u001b[38;5;124;43m2x2\u001b[39;49m\u001b[38;5;124;43m'\u001b[39;49m\u001b[43m)\u001b[49m \u001b[38;5;66;03m# Ejemplo de uso para B&B\u001b[39;00m\n\u001b[0;32m      2\u001b[0m \u001b[38;5;28mprint\u001b[39m()\n\u001b[0;32m      3\u001b[0m launch_experiment(\u001b[38;5;124m'\u001b[39m\u001b[38;5;124m3x5\u001b[39m\u001b[38;5;124m'\u001b[39m, heuristic\u001b[38;5;241m=\u001b[39mheuristic_1) \u001b[38;5;66;03m# Ejemplo de uso para A*\u001b[39;00m\n",
      "Cell \u001b[1;32mIn[31], line 25\u001b[0m, in \u001b[0;36mlaunch_experiment\u001b[1;34m(configuration, heuristic)\u001b[0m\n\u001b[0;32m     23\u001b[0m     sol \u001b[38;5;241m=\u001b[39m search_horse_astar(initial_state(\u001b[38;5;241m*\u001b[39mconf), heuristic)\n\u001b[0;32m     24\u001b[0m \u001b[38;5;28;01melse\u001b[39;00m:\n\u001b[1;32m---> 25\u001b[0m     sol \u001b[38;5;241m=\u001b[39m \u001b[43msearch_horse_byb\u001b[49m(initial_state(\u001b[38;5;241m*\u001b[39mconf))\n\u001b[0;32m     26\u001b[0m n_c \u001b[38;5;241m=\u001b[39m measure_solution(sol)\n\u001b[0;32m     27\u001b[0m \u001b[38;5;28mprint\u001b[39m(\u001b[38;5;124mf\u001b[39m\u001b[38;5;124m\"\u001b[39m\u001b[38;5;124mSolution found: \u001b[39m\u001b[38;5;130;01m\\n\u001b[39;00m\u001b[38;5;132;01m{\u001b[39;00msol\u001b[38;5;132;01m}\u001b[39;00m\u001b[38;5;124m\"\u001b[39m)\n",
      "\u001b[1;31mNameError\u001b[0m: name 'search_horse_byb' is not defined"
     ]
    }
   ],
   "source": [
    "launch_experiment('2x2') # Ejemplo de uso para B&B\n",
    "print()\n",
    "launch_experiment('3x5', heuristic=heuristic_1) # Ejemplo de uso para A*\n",
    "print(\"Execution finished\")"
   ]
  },
  {
   "cell_type": "markdown",
   "metadata": {
    "id": "dznNYK44nlfG"
   },
   "source": [
    "### Branch & Bound"
   ]
  },
  {
   "cell_type": "code",
   "execution_count": null,
   "metadata": {
    "id": "J5TlnFldnlfH"
   },
   "outputs": [],
   "source": [
    "### Coloca aquí tus experimentos ###"
   ]
  },
  {
   "cell_type": "markdown",
   "metadata": {
    "id": "9J59QSZrnlfH"
   },
   "source": [
    "**Resultados de Branch & Bound**\n",
    "\n",
    "**--> Incluye aquí <--**\n",
    "\n",
    "La tabla de B&B y una valoración crítica de los resultados."
   ]
  },
  {
   "cell_type": "markdown",
   "metadata": {
    "id": "8c02KEGQnlfH"
   },
   "source": [
    "### A*"
   ]
  },
  {
   "cell_type": "code",
   "execution_count": null,
   "metadata": {
    "id": "5Jn8eC6UnlfH"
   },
   "outputs": [],
   "source": [
    "### Coloca aquí tus experimentos ###"
   ]
  },
  {
   "cell_type": "markdown",
   "metadata": {
    "id": "M8wQo-oMnlfI"
   },
   "source": [
    "**Resultados de A-Star**\n",
    "\n",
    "**--> Incluye aquí <--**\n",
    "\n",
    "La tabla de A* y una valoración crítica de los resultados."
   ]
  },
  {
   "cell_type": "markdown",
   "metadata": {
    "id": "53ND2ZcCnlfI"
   },
   "source": [
    "## Conclusiones\n",
    "\n",
    "**--> Incluye aquí <--**\n",
    "\n",
    "La tabla comparativa entre A* y B&B, añade una valoración crítica de los resultados, especificando las diferencias que encuentras entre ambos algoritmos de búsqueda, ventajas de usar uno sobre otro, el efecto de la configuración del problema, etc."
   ]
  }
 ],
 "metadata": {
  "colab": {
   "collapsed_sections": [
    "KxjhQNXJnle9",
    "JVeEjXCjnle_",
    "HSrznxK8nlfA"
   ],
   "provenance": []
  },
  "kernelspec": {
   "display_name": "Python 3",
   "language": "python",
   "name": "python3"
  },
  "language_info": {
   "codemirror_mode": {
    "name": "ipython",
    "version": 3
   },
   "file_extension": ".py",
   "mimetype": "text/x-python",
   "name": "python",
   "nbconvert_exporter": "python",
   "pygments_lexer": "ipython3",
   "version": "3.13.0"
  }
 },
 "nbformat": 4,
 "nbformat_minor": 0
}
